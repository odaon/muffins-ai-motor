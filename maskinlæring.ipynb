{
 "cells": [
  {
   "cell_type": "markdown",
   "id": "24733a63-64ae-4cae-9b0c-703cfdc8f5f9",
   "metadata": {},
   "source": [
    "# Maskinlæring\n",
    "\n",
    "I denne notebooken skal vi \n",
    "\n",
    "- Bruke de nyvaskede og utforskede dataene våre til å trene en eller flere maskinlæringsmodeller.\n",
    "\n",
    "- Se på hvordan vi kan måle kvaliteten til modellene våre, og hvordan vi kan øke kvalitet. \n",
    "\n",
    "- Se på hvordan vi kan kontrollere hvordan modellene våre oppfører seg basert på våre egne prioriteringer.\n",
    "\n"
   ]
  },
  {
   "cell_type": "code",
   "execution_count": 14,
   "id": "386696cd-e514-486e-96c3-9a134fcc8759",
   "metadata": {},
   "outputs": [],
   "source": [
    "import pandas as pd"
   ]
  },
  {
   "cell_type": "markdown",
   "id": "680d78ac-7eac-46e3-8b1f-75840c064dd1",
   "metadata": {},
   "source": [
    "Først leser vi inn dataen vår fra en fil i parquet-format til en Pandas DataFrame:"
   ]
  },
  {
   "cell_type": "code",
   "execution_count": 2,
   "id": "c03a7bd2-a7a1-4d55-a702-1391ff6c9a86",
   "metadata": {},
   "outputs": [],
   "source": [
    "df = pd.read_parquet(\"fraud_preprocessed.pq\")"
   ]
  },
  {
   "cell_type": "code",
   "execution_count": 17,
   "id": "754ad9b1-804f-4bdd-80c1-d6c4f0baf76a",
   "metadata": {},
   "outputs": [
    {
     "name": "stdout",
     "output_type": "stream",
     "text": [
      "<class 'pandas.core.frame.DataFrame'>\n",
      "RangeIndex: 15420 entries, 0 to 15419\n",
      "Data columns (total 33 columns):\n",
      " #   Column                Non-Null Count  Dtype\n",
      "---  ------                --------------  -----\n",
      " 0   Month                 15420 non-null  int64\n",
      " 1   WeekOfMonth           15420 non-null  int64\n",
      " 2   DayOfWeek             15420 non-null  int64\n",
      " 3   Make                  15420 non-null  int64\n",
      " 4   AccidentArea          15420 non-null  int64\n",
      " 5   DayOfWeekClaimed      15420 non-null  int64\n",
      " 6   MonthClaimed          15420 non-null  int64\n",
      " 7   WeekOfMonthClaimed    15420 non-null  int64\n",
      " 8   Sex                   15420 non-null  int64\n",
      " 9   MaritalStatus         15420 non-null  int64\n",
      " 10  Age                   15420 non-null  int64\n",
      " 11  Fault                 15420 non-null  int64\n",
      " 12  PolicyType            15420 non-null  int64\n",
      " 13  VehicleCategory       15420 non-null  int64\n",
      " 14  VehiclePrice          15420 non-null  int64\n",
      " 15  FraudFound_P          15420 non-null  int64\n",
      " 16  PolicyNumber          15420 non-null  int64\n",
      " 17  RepNumber             15420 non-null  int64\n",
      " 18  Deductible            15420 non-null  int64\n",
      " 19  DriverRating          15420 non-null  int64\n",
      " 20  Days_Policy_Accident  15420 non-null  int64\n",
      " 21  Days_Policy_Claim     15420 non-null  int64\n",
      " 22  PastNumberOfClaims    15420 non-null  int64\n",
      " 23  AgeOfVehicle          15420 non-null  int64\n",
      " 24  AgeOfPolicyHolder     15420 non-null  int64\n",
      " 25  PoliceReportFiled     15420 non-null  int64\n",
      " 26  WitnessPresent        15420 non-null  int64\n",
      " 27  AgentType             15420 non-null  int64\n",
      " 28  NumberOfSuppliments   15420 non-null  int64\n",
      " 29  AddressChange_Claim   15420 non-null  int64\n",
      " 30  NumberOfCars          15420 non-null  int64\n",
      " 31  Year                  15420 non-null  int64\n",
      " 32  BasePolicy            15420 non-null  int64\n",
      "dtypes: int64(33)\n",
      "memory usage: 3.9 MB\n"
     ]
    }
   ],
   "source": [
    "df.info()"
   ]
  },
  {
   "cell_type": "markdown",
   "id": "0fe3c5f9-fac2-457f-9de2-7a81ccadfd00",
   "metadata": {},
   "source": [
    "Denne parquet-filen skal du ha lagret fra den andre notebooken hvor du utforsket og vasket dataene. Den skal nå være klar til bruk i maskinlæringsmodellen(e) dine."
   ]
  },
  {
   "cell_type": "markdown",
   "id": "dcb3f943-5083-49b2-aac0-cac0357c53a1",
   "metadata": {},
   "source": [
    "Hvis du ønsker kan du dobbelsjekke at alt ser ut til å være på plass slik du forventer, ved å bruke noen av de følgende pandas-funksjonene:\n",
    "\n",
    "```\n",
    "df.head()  # Se de første 5 radene\n",
    "df.info()  # Se datatyper og hvor mange ikke-null verdier det er for hver kolonne\n",
    "df.describe()  # Se statistisk fordeling av verdier i hver kolonne\n",
    "for col in df:\n",
    "    print(df[col].value_counts())  # Tell hvor mange ganger hver unike verdi forekommer\n",
    "    print(str(len(df[col].unique())) + \" unique values in column\")\n",
    "    print()\n",
    "```"
   ]
  },
  {
   "cell_type": "markdown",
   "id": "d15042b4-9753-4a59-9f79-5cf51a28d02c",
   "metadata": {},
   "source": [
    "Når man trener en maskinlæringsmodell er det god praksis å sette tilside noe data som man ikke trener på, så man kan teste på den hvor godt modellen din generaliserer."
   ]
  },
  {
   "cell_type": "code",
   "execution_count": 16,
   "id": "50b72db2-62bb-474f-8f9f-d9522eb511de",
   "metadata": {},
   "outputs": [],
   "source": [
    "from sklearn.model_selection import train_test_split"
   ]
  },
  {
   "cell_type": "code",
   "execution_count": 21,
   "id": "f4980951-7fea-4e41-8ed0-269528d0fa86",
   "metadata": {},
   "outputs": [],
   "source": [
    "y_col_name = \"FraudFound_P\"\n",
    "y = df[y_col_name]\n",
    "X = df.drop(y_col_name, axis=1)\n",
    "X_train, X_test, y_train, y_test = train_test_split(X, y, test_size=0.33, random_state=42)"
   ]
  },
  {
   "cell_type": "markdown",
   "id": "20dc6789-5b14-4e93-b081-f0c1e5d0e54f",
   "metadata": {},
   "source": [
    "Som så kan man splitte dataen én gang mellom trening og test. Men det kan være at akkurat denne splitten forårsaker unøyaktig trening eller test på grunn av arbitrære mønstre eller støy i dataen som ikke er representative for dataen som helhet. Hvis man ønsker seg et godt mål på hvor bra treningsregimet ditt er kan det lønne seg å splitte på flere forskjellige måter, og sammenligne scorene dine fra å trene og teste på forskjellige splitter.\n",
    "\n",
    "En metode for dette kalles K-fold cross-validation. Navnet lyder slik fordi man folder dataen i K deler, og for hver av de K delene trener man først på all dataen som ikke er i delen, og så tester man på den delen. Størrelsen på K avgjør også størrelsen på test-settene, som får størrelsen 1/K. K bør være høy nok til at treningssettet inneholder et representativt utvalg av dataen i alle tilfeller, men des høyere K er des mindre representativt for populasjonen vil testfolden være."
   ]
  },
  {
   "cell_type": "code",
   "execution_count": 23,
   "id": "66ff8507-585c-4770-9850-32b09e6f610e",
   "metadata": {},
   "outputs": [
    {
     "name": "stdout",
     "output_type": "stream",
     "text": [
      "Avg accuracy: 0.9401426718547341\n"
     ]
    }
   ],
   "source": [
    "from sklearn.linear_model import LogisticRegression\n",
    "from sklearn.model_selection import cross_val_score\n",
    "from sklearn.model_selection import KFold\n",
    " \n",
    "k = 5\n",
    "k_fold_x_validation = KFold(n_splits=k, random_state=None)\n",
    "logistic_regressor = LogisticRegression(solver='liblinear')\n",
    " \n",
    "result = cross_val_score(logistic_regressor, X, y, cv=k_fold_x_validation)\n",
    " \n",
    "print(\"Avg accuracy: {}\".format(result.mean()))"
   ]
  },
  {
   "cell_type": "markdown",
   "id": "b26350e8-c280-47f5-899a-3444e002db68",
   "metadata": {},
   "source": [
    "Wow, det var en høy nøyaktighet! Over 90% riktig! Pack it up, our work here is done 😎\n",
    "\n",
    "Eller?\n",
    "\n",
    "Hva er egentlig nøyaktighet (accuracy), og hva er en \"god\" nøyaktighet?\n",
    "\n",
    "Accuracy er hvor mange prosent av klassifikasjonene dine som ble riktig. Hvis du har et binært klassifiseringsproblem slik vi har her, og fordelingen mellom de to klassene (\"muffins\", \"Ikke muffins\") i dataen din er 10/90, så vil det å alltid gjette \"ikke muffins\" gi deg en nøyaktighet på 90%!\n",
    "\n",
    "Så hvis målet er å identifisere noe muffins, så er ikke 90% nøyaktighet bra i det hele tatt, i dette tilfellet...\n",
    "\n",
    "Hvis `n(klasse)` er antall medlemmer i en klasse i datasettet er altså grunnlinjen for nøyaktighet i vår klassifisering `1 - (n(muffins)/n(ikke muffins))`"
   ]
  },
  {
   "cell_type": "code",
   "execution_count": 37,
   "id": "4d248c6e-95c6-4f57-81a5-029bc7a8c8e1",
   "metadata": {},
   "outputs": [
    {
     "data": {
      "text/plain": [
       "0.9363316548251363"
      ]
     },
     "execution_count": 37,
     "metadata": {},
     "output_type": "execute_result"
    }
   ],
   "source": [
    "1 - int(y.value_counts()[1])/int(y.value_counts()[0])"
   ]
  },
  {
   "cell_type": "code",
   "execution_count": null,
   "id": "67a49433-e5e8-46f5-b920-7b071422b569",
   "metadata": {},
   "outputs": [],
   "source": [
    "Nøyaktighet bedre en dette vil"
   ]
  }
 ],
 "metadata": {
  "kernelspec": {
   "display_name": "Python 3 (ipykernel)",
   "language": "python",
   "name": "python3"
  },
  "language_info": {
   "codemirror_mode": {
    "name": "ipython",
    "version": 3
   },
   "file_extension": ".py",
   "mimetype": "text/x-python",
   "name": "python",
   "nbconvert_exporter": "python",
   "pygments_lexer": "ipython3",
   "version": "3.10.6"
  }
 },
 "nbformat": 4,
 "nbformat_minor": 5
}
