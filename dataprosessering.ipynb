{
 "cells": [
  {
   "cell_type": "markdown",
   "id": "c8f40e25-43c9-452f-b277-cd03aefaa1b6",
   "metadata": {
    "pycharm": {
     "name": "#%% md\n"
    }
   },
   "source": [
    "## Undersøkelse og forberedelse av data\n",
    "\n",
    "I denne notebooken har vi skrevet eksempelkode for hvordan man skal klargjøre data til modellering. Det er nødvendig å gjøre egne mappinger, samt ta avgjørelser for hva som skal være kategoriske variabler for å få et ferdig datasett som kan brukes videre i maskinlæringsdelen av workshopen. Du er derfor nødt til å gjøre en grundig jobb her for å komme videre til neste notebook. "
   ]
  },
  {
   "cell_type": "markdown",
   "id": "13c7aca2-09cf-4096-b5ba-21a71735100a",
   "metadata": {
    "pycharm": {
     "name": "#%% md\n"
    }
   },
   "source": [
    "Før vi kan begynne med modelleringen er vi nødt til å undersøke dataene grundig. Vi må få en oversikt over:\n",
    "* Størrelsen\n",
    "* Fordelingen på fasiten vår\n",
    "* Mangler vi data?\n",
    "* Finner vi noe rart?\n",
    "* Hva er kategorisk og hva er numerisk?\n",
    "* Hva må mappes og hva må ordnes?\n",
    "* Ser vi noen sammenhenger som utgjør nye variabler?\n",
    "* Enkoding\n",
    "\n",
    "Én verktøykasse i python som vi kan bruke til alle disse tingene heter \"Pandas\". I pandas får man en praktisk klasse for å representere data som en tabell, som heter en \"DataFrame\". Hvis man trenger å gjøre noe som helst med dataen sin, er det med stor sansynlighet en god måte å gjøre det på i Pandas! Så da er det bare å google hva enn du vill gjøre (f.eks. \"pandas average of column\", eller \"pandas unique values in column\") for å få masse forklaringer og eksempelkode.\n",
    "\n",
    "Pandas kan lese inn data fra formater som CSV og Parquet rett til en DataFrame! Den har kolonner med forskjellige variabler, og hver rad i tabellen er data som hører sammen. I vårt tilfelle er hver rad én forsikringsskadesak, og hver kolonne er én variabel om personen, forsikringsobjektet eller omstendighetene for skaden.\n",
    "\n",
    "Alt ettersom hva du jobber med og hva slags krav som stilles er det flere ting en det som finnes i denne Notebooken som kan gjøres for å utforske og analysere dataen ytterligere. Vi fokuserer på noen få ting for å prøve å holde det enkelt med vanskelig og interaktivt nok, og gi de som er flinke plass til å gjøre sine egne utforskninger for å få en fordel over de andre gruppene!"
   ]
  },
  {
   "cell_type": "markdown",
   "id": "0957f2b9-176c-4f56-8bfb-e2b2bf1a8dfc",
   "metadata": {
    "pycharm": {
     "name": "#%% md\n"
    }
   },
   "source": [
    "#### Vi starter med å lese inn datasettet til en pandas dataframe"
   ]
  },
  {
   "cell_type": "code",
   "execution_count": 1,
   "id": "ac233e0c-5401-4676-ba95-3725dee5d07b",
   "metadata": {
    "pycharm": {
     "name": "#%%\n"
    },
    "tags": []
   },
   "outputs": [],
   "source": [
    "import pandas as pd\n",
    "df = pd.read_csv('data/fraud.csv')"
   ]
  },
  {
   "cell_type": "markdown",
   "id": "694ae252-1588-4869-95e7-591eb594471f",
   "metadata": {
    "pycharm": {
     "name": "#%% md\n"
    }
   },
   "source": [
    "#### La oss ta en første kikk på dataene, for få oversikt over hva vi skal jobbe med"
   ]
  },
  {
   "cell_type": "markdown",
   "id": "7d5a8af3-62f6-4156-be71-cfd6f5495b56",
   "metadata": {
    "tags": []
   },
   "source": [
    "Det finnes metoder i pandas som gir det et kjapt overblikk!\n",
    "\n",
    "`df.info()` gir deg en oversikt over størrelse, variabler og typer. Kolonner med typen \"object\" kan fort inneholde et strengnavn, mens f.eks. \"int64\" bare er heltall.\n",
    "\n",
    "`df.describe()` gir deg deskriptiv statistikk over numeriske variablers distribusjon.\n",
    "\n",
    "`df.sample(15).T` gir deg 15 tilfeldige rader fra dataframen din. `.T` flipper dataframen og viser oss de tilfeldige radene våre \"sidelengs\", altså med kolonnene som rader, og radene som kolonner. Nyttig triks for visning i notebook når du har mange kolonner!"
   ]
  },
  {
   "cell_type": "code",
   "execution_count": 6,
   "id": "937a7ecd-0bde-4deb-bede-8cbb452e0bb0",
   "metadata": {
    "pycharm": {
     "name": "#%%\n"
    },
    "tags": []
   },
   "outputs": [
    {
     "data": {
      "text/html": [
       "<div>\n",
       "<style scoped>\n",
       "    .dataframe tbody tr th:only-of-type {\n",
       "        vertical-align: middle;\n",
       "    }\n",
       "\n",
       "    .dataframe tbody tr th {\n",
       "        vertical-align: top;\n",
       "    }\n",
       "\n",
       "    .dataframe thead th {\n",
       "        text-align: right;\n",
       "    }\n",
       "</style>\n",
       "<table border=\"1\" class=\"dataframe\">\n",
       "  <thead>\n",
       "    <tr style=\"text-align: right;\">\n",
       "      <th></th>\n",
       "      <th>4011</th>\n",
       "      <th>10026</th>\n",
       "      <th>6736</th>\n",
       "      <th>489</th>\n",
       "      <th>6750</th>\n",
       "      <th>3833</th>\n",
       "      <th>1787</th>\n",
       "      <th>6727</th>\n",
       "      <th>4463</th>\n",
       "      <th>276</th>\n",
       "      <th>9400</th>\n",
       "      <th>2321</th>\n",
       "      <th>7515</th>\n",
       "      <th>3916</th>\n",
       "      <th>4737</th>\n",
       "    </tr>\n",
       "  </thead>\n",
       "  <tbody>\n",
       "    <tr>\n",
       "      <th>ID</th>\n",
       "      <td>4262</td>\n",
       "      <td>7293</td>\n",
       "      <td>6722</td>\n",
       "      <td>2227</td>\n",
       "      <td>9081</td>\n",
       "      <td>7316</td>\n",
       "      <td>893</td>\n",
       "      <td>4289</td>\n",
       "      <td>11315</td>\n",
       "      <td>9702</td>\n",
       "      <td>138</td>\n",
       "      <td>598</td>\n",
       "      <td>12633</td>\n",
       "      <td>5518</td>\n",
       "      <td>12975</td>\n",
       "    </tr>\n",
       "    <tr>\n",
       "      <th>Month</th>\n",
       "      <td>Nov</td>\n",
       "      <td>Dec</td>\n",
       "      <td>Sep</td>\n",
       "      <td>Feb</td>\n",
       "      <td>Dec</td>\n",
       "      <td>Oct</td>\n",
       "      <td>Nov</td>\n",
       "      <td>Jul</td>\n",
       "      <td>Mar</td>\n",
       "      <td>Mar</td>\n",
       "      <td>Dec</td>\n",
       "      <td>Aug</td>\n",
       "      <td>Oct</td>\n",
       "      <td>Aug</td>\n",
       "      <td>Dec</td>\n",
       "    </tr>\n",
       "    <tr>\n",
       "      <th>WeekOfMonth</th>\n",
       "      <td>4</td>\n",
       "      <td>4</td>\n",
       "      <td>4</td>\n",
       "      <td>4</td>\n",
       "      <td>4</td>\n",
       "      <td>3</td>\n",
       "      <td>2</td>\n",
       "      <td>5</td>\n",
       "      <td>1</td>\n",
       "      <td>3</td>\n",
       "      <td>4</td>\n",
       "      <td>4</td>\n",
       "      <td>4</td>\n",
       "      <td>1</td>\n",
       "      <td>1</td>\n",
       "    </tr>\n",
       "    <tr>\n",
       "      <th>DayOfWeek</th>\n",
       "      <td>Friday</td>\n",
       "      <td>Thursday</td>\n",
       "      <td>Tuesday</td>\n",
       "      <td>Saturday</td>\n",
       "      <td>Thursday</td>\n",
       "      <td>Monday</td>\n",
       "      <td>Saturday</td>\n",
       "      <td>Sunday</td>\n",
       "      <td>Thursday</td>\n",
       "      <td>Tuesday</td>\n",
       "      <td>Wednesday</td>\n",
       "      <td>Friday</td>\n",
       "      <td>Friday</td>\n",
       "      <td>Friday</td>\n",
       "      <td>Tuesday</td>\n",
       "    </tr>\n",
       "    <tr>\n",
       "      <th>Make</th>\n",
       "      <td>Toyota</td>\n",
       "      <td>Toyota</td>\n",
       "      <td>Honda</td>\n",
       "      <td>Pontiac</td>\n",
       "      <td>Pontiac</td>\n",
       "      <td>Pontiac</td>\n",
       "      <td>Mazda</td>\n",
       "      <td>Honda</td>\n",
       "      <td>Pontiac</td>\n",
       "      <td>Pontiac</td>\n",
       "      <td>Mercury</td>\n",
       "      <td>Toyota</td>\n",
       "      <td>Dodge</td>\n",
       "      <td>Toyota</td>\n",
       "      <td>Chevrolet</td>\n",
       "    </tr>\n",
       "    <tr>\n",
       "      <th>AccidentArea</th>\n",
       "      <td>Urban</td>\n",
       "      <td>Urban</td>\n",
       "      <td>Urban</td>\n",
       "      <td>Urban</td>\n",
       "      <td>Urban</td>\n",
       "      <td>Urban</td>\n",
       "      <td>Urban</td>\n",
       "      <td>Rural</td>\n",
       "      <td>Urban</td>\n",
       "      <td>Urban</td>\n",
       "      <td>Urban</td>\n",
       "      <td>Urban</td>\n",
       "      <td>Urban</td>\n",
       "      <td>Urban</td>\n",
       "      <td>Urban</td>\n",
       "    </tr>\n",
       "    <tr>\n",
       "      <th>DayOfWeekClaimed</th>\n",
       "      <td>Friday</td>\n",
       "      <td>Tuesday</td>\n",
       "      <td>Wednesday</td>\n",
       "      <td>Tuesday</td>\n",
       "      <td>Tuesday</td>\n",
       "      <td>Wednesday</td>\n",
       "      <td>Friday</td>\n",
       "      <td>Tuesday</td>\n",
       "      <td>Friday</td>\n",
       "      <td>Wednesday</td>\n",
       "      <td>Thursday</td>\n",
       "      <td>Friday</td>\n",
       "      <td>Monday</td>\n",
       "      <td>Thursday</td>\n",
       "      <td>Thursday</td>\n",
       "    </tr>\n",
       "    <tr>\n",
       "      <th>MonthClaimed</th>\n",
       "      <td>Nov</td>\n",
       "      <td>Dec</td>\n",
       "      <td>Sep</td>\n",
       "      <td>Feb</td>\n",
       "      <td>Jan</td>\n",
       "      <td>Oct</td>\n",
       "      <td>Nov</td>\n",
       "      <td>Aug</td>\n",
       "      <td>Mar</td>\n",
       "      <td>Mar</td>\n",
       "      <td>Jan</td>\n",
       "      <td>Sep</td>\n",
       "      <td>Oct</td>\n",
       "      <td>Sep</td>\n",
       "      <td>Dec</td>\n",
       "    </tr>\n",
       "    <tr>\n",
       "      <th>WeekOfMonthClaimed</th>\n",
       "      <td>4</td>\n",
       "      <td>4</td>\n",
       "      <td>5</td>\n",
       "      <td>5</td>\n",
       "      <td>1</td>\n",
       "      <td>4</td>\n",
       "      <td>3</td>\n",
       "      <td>1</td>\n",
       "      <td>1</td>\n",
       "      <td>4</td>\n",
       "      <td>1</td>\n",
       "      <td>1</td>\n",
       "      <td>5</td>\n",
       "      <td>1</td>\n",
       "      <td>2</td>\n",
       "    </tr>\n",
       "    <tr>\n",
       "      <th>Sex</th>\n",
       "      <td>Male</td>\n",
       "      <td>Female</td>\n",
       "      <td>Female</td>\n",
       "      <td>Male</td>\n",
       "      <td>Male</td>\n",
       "      <td>Male</td>\n",
       "      <td>Female</td>\n",
       "      <td>Male</td>\n",
       "      <td>Female</td>\n",
       "      <td>Male</td>\n",
       "      <td>Male</td>\n",
       "      <td>Male</td>\n",
       "      <td>Male</td>\n",
       "      <td>Male</td>\n",
       "      <td>Female</td>\n",
       "    </tr>\n",
       "    <tr>\n",
       "      <th>MaritalStatus</th>\n",
       "      <td>Married</td>\n",
       "      <td>Single</td>\n",
       "      <td>Married</td>\n",
       "      <td>Married</td>\n",
       "      <td>Single</td>\n",
       "      <td>Single</td>\n",
       "      <td>Married</td>\n",
       "      <td>Married</td>\n",
       "      <td>Married</td>\n",
       "      <td>Single</td>\n",
       "      <td>Married</td>\n",
       "      <td>Married</td>\n",
       "      <td>Married</td>\n",
       "      <td>Married</td>\n",
       "      <td>Married</td>\n",
       "    </tr>\n",
       "    <tr>\n",
       "      <th>Age</th>\n",
       "      <td>28</td>\n",
       "      <td>24</td>\n",
       "      <td>62</td>\n",
       "      <td>34</td>\n",
       "      <td>23</td>\n",
       "      <td>35</td>\n",
       "      <td>45</td>\n",
       "      <td>41</td>\n",
       "      <td>50</td>\n",
       "      <td>29</td>\n",
       "      <td>42</td>\n",
       "      <td>26</td>\n",
       "      <td>63</td>\n",
       "      <td>26</td>\n",
       "      <td>31</td>\n",
       "    </tr>\n",
       "    <tr>\n",
       "      <th>Fault</th>\n",
       "      <td>Policy Holder</td>\n",
       "      <td>Policy Holder</td>\n",
       "      <td>Policy Holder</td>\n",
       "      <td>Policy Holder</td>\n",
       "      <td>Policy Holder</td>\n",
       "      <td>Policy Holder</td>\n",
       "      <td>Third Party</td>\n",
       "      <td>Policy Holder</td>\n",
       "      <td>Policy Holder</td>\n",
       "      <td>Third Party</td>\n",
       "      <td>Policy Holder</td>\n",
       "      <td>Policy Holder</td>\n",
       "      <td>Policy Holder</td>\n",
       "      <td>Policy Holder</td>\n",
       "      <td>Policy Holder</td>\n",
       "    </tr>\n",
       "    <tr>\n",
       "      <th>PolicyType</th>\n",
       "      <td>Sedan - Collision</td>\n",
       "      <td>Sedan - Liability</td>\n",
       "      <td>Sedan - All Perils</td>\n",
       "      <td>Sedan - Collision</td>\n",
       "      <td>Sedan - Liability</td>\n",
       "      <td>Sedan - Collision</td>\n",
       "      <td>Sedan - All Perils</td>\n",
       "      <td>Sedan - Liability</td>\n",
       "      <td>Sedan - Liability</td>\n",
       "      <td>Sedan - Liability</td>\n",
       "      <td>Sedan - All Perils</td>\n",
       "      <td>Sedan - Collision</td>\n",
       "      <td>Sedan - Liability</td>\n",
       "      <td>Sedan - All Perils</td>\n",
       "      <td>Sedan - Collision</td>\n",
       "    </tr>\n",
       "    <tr>\n",
       "      <th>VehicleCategory</th>\n",
       "      <td>Sedan</td>\n",
       "      <td>Sport</td>\n",
       "      <td>Sedan</td>\n",
       "      <td>Sedan</td>\n",
       "      <td>Sport</td>\n",
       "      <td>Sedan</td>\n",
       "      <td>Sedan</td>\n",
       "      <td>Sport</td>\n",
       "      <td>Sport</td>\n",
       "      <td>Sport</td>\n",
       "      <td>Sedan</td>\n",
       "      <td>Sedan</td>\n",
       "      <td>Sport</td>\n",
       "      <td>Sedan</td>\n",
       "      <td>Sedan</td>\n",
       "    </tr>\n",
       "    <tr>\n",
       "      <th>VehiclePrice</th>\n",
       "      <td>20000 to 29000</td>\n",
       "      <td>20000 to 29000</td>\n",
       "      <td>20000 to 29000</td>\n",
       "      <td>30000 to 39000</td>\n",
       "      <td>20000 to 29000</td>\n",
       "      <td>30000 to 39000</td>\n",
       "      <td>20000 to 29000</td>\n",
       "      <td>30000 to 39000</td>\n",
       "      <td>20000 to 29000</td>\n",
       "      <td>30000 to 39000</td>\n",
       "      <td>20000 to 29000</td>\n",
       "      <td>20000 to 29000</td>\n",
       "      <td>30000 to 39000</td>\n",
       "      <td>20000 to 29000</td>\n",
       "      <td>30000 to 39000</td>\n",
       "    </tr>\n",
       "    <tr>\n",
       "      <th>FraudFound_P</th>\n",
       "      <td>0</td>\n",
       "      <td>0</td>\n",
       "      <td>1</td>\n",
       "      <td>0</td>\n",
       "      <td>0</td>\n",
       "      <td>1</td>\n",
       "      <td>0</td>\n",
       "      <td>0</td>\n",
       "      <td>0</td>\n",
       "      <td>0</td>\n",
       "      <td>0</td>\n",
       "      <td>0</td>\n",
       "      <td>0</td>\n",
       "      <td>1</td>\n",
       "      <td>0</td>\n",
       "    </tr>\n",
       "    <tr>\n",
       "      <th>PolicyNumber</th>\n",
       "      <td>4263</td>\n",
       "      <td>7294</td>\n",
       "      <td>6723</td>\n",
       "      <td>2228</td>\n",
       "      <td>9082</td>\n",
       "      <td>7317</td>\n",
       "      <td>894</td>\n",
       "      <td>4290</td>\n",
       "      <td>11316</td>\n",
       "      <td>9703</td>\n",
       "      <td>139</td>\n",
       "      <td>599</td>\n",
       "      <td>12634</td>\n",
       "      <td>5519</td>\n",
       "      <td>12976</td>\n",
       "    </tr>\n",
       "    <tr>\n",
       "      <th>RepNumber</th>\n",
       "      <td>15</td>\n",
       "      <td>11</td>\n",
       "      <td>3</td>\n",
       "      <td>8</td>\n",
       "      <td>7</td>\n",
       "      <td>13</td>\n",
       "      <td>13</td>\n",
       "      <td>4</td>\n",
       "      <td>3</td>\n",
       "      <td>11</td>\n",
       "      <td>2</td>\n",
       "      <td>16</td>\n",
       "      <td>15</td>\n",
       "      <td>11</td>\n",
       "      <td>4</td>\n",
       "    </tr>\n",
       "    <tr>\n",
       "      <th>Deductible</th>\n",
       "      <td>400</td>\n",
       "      <td>400</td>\n",
       "      <td>400</td>\n",
       "      <td>400</td>\n",
       "      <td>400</td>\n",
       "      <td>700</td>\n",
       "      <td>400</td>\n",
       "      <td>400</td>\n",
       "      <td>400</td>\n",
       "      <td>400</td>\n",
       "      <td>400</td>\n",
       "      <td>400</td>\n",
       "      <td>400</td>\n",
       "      <td>700</td>\n",
       "      <td>400</td>\n",
       "    </tr>\n",
       "    <tr>\n",
       "      <th>DriverRating</th>\n",
       "      <td>1</td>\n",
       "      <td>3</td>\n",
       "      <td>3</td>\n",
       "      <td>4</td>\n",
       "      <td>2</td>\n",
       "      <td>4</td>\n",
       "      <td>2</td>\n",
       "      <td>4</td>\n",
       "      <td>3</td>\n",
       "      <td>2</td>\n",
       "      <td>2</td>\n",
       "      <td>4</td>\n",
       "      <td>4</td>\n",
       "      <td>3</td>\n",
       "      <td>2</td>\n",
       "    </tr>\n",
       "    <tr>\n",
       "      <th>Days_Policy_Accident</th>\n",
       "      <td>more than 30</td>\n",
       "      <td>more than 30</td>\n",
       "      <td>more than 30</td>\n",
       "      <td>more than 30</td>\n",
       "      <td>more than 30</td>\n",
       "      <td>more than 30</td>\n",
       "      <td>more than 30</td>\n",
       "      <td>more than 30</td>\n",
       "      <td>more than 30</td>\n",
       "      <td>more than 30</td>\n",
       "      <td>more than 30</td>\n",
       "      <td>more than 30</td>\n",
       "      <td>more than 30</td>\n",
       "      <td>more than 30</td>\n",
       "      <td>more than 30</td>\n",
       "    </tr>\n",
       "    <tr>\n",
       "      <th>Days_Policy_Claim</th>\n",
       "      <td>more than 30</td>\n",
       "      <td>more than 30</td>\n",
       "      <td>more than 30</td>\n",
       "      <td>more than 30</td>\n",
       "      <td>more than 30</td>\n",
       "      <td>more than 30</td>\n",
       "      <td>more than 30</td>\n",
       "      <td>more than 30</td>\n",
       "      <td>more than 30</td>\n",
       "      <td>more than 30</td>\n",
       "      <td>more than 30</td>\n",
       "      <td>more than 30</td>\n",
       "      <td>more than 30</td>\n",
       "      <td>more than 30</td>\n",
       "      <td>more than 30</td>\n",
       "    </tr>\n",
       "    <tr>\n",
       "      <th>PastNumberOfClaims</th>\n",
       "      <td>2 to 4</td>\n",
       "      <td>none</td>\n",
       "      <td>more than 4</td>\n",
       "      <td>more than 4</td>\n",
       "      <td>more than 4</td>\n",
       "      <td>2 to 4</td>\n",
       "      <td>none</td>\n",
       "      <td>none</td>\n",
       "      <td>2 to 4</td>\n",
       "      <td>more than 4</td>\n",
       "      <td>more than 4</td>\n",
       "      <td>none</td>\n",
       "      <td>more than 4</td>\n",
       "      <td>none</td>\n",
       "      <td>none</td>\n",
       "    </tr>\n",
       "    <tr>\n",
       "      <th>AgeOfVehicle</th>\n",
       "      <td>6 years</td>\n",
       "      <td>3 years</td>\n",
       "      <td>more than 7</td>\n",
       "      <td>7 years</td>\n",
       "      <td>4 years</td>\n",
       "      <td>7 years</td>\n",
       "      <td>6 years</td>\n",
       "      <td>7 years</td>\n",
       "      <td>6 years</td>\n",
       "      <td>6 years</td>\n",
       "      <td>7 years</td>\n",
       "      <td>7 years</td>\n",
       "      <td>more than 7</td>\n",
       "      <td>7 years</td>\n",
       "      <td>6 years</td>\n",
       "    </tr>\n",
       "    <tr>\n",
       "      <th>AgeOfPolicyHolder</th>\n",
       "      <td>31 to 35</td>\n",
       "      <td>26 to 30</td>\n",
       "      <td>51 to 65</td>\n",
       "      <td>31 to 35</td>\n",
       "      <td>26 to 30</td>\n",
       "      <td>31 to 35</td>\n",
       "      <td>36 to 40</td>\n",
       "      <td>36 to 40</td>\n",
       "      <td>41 to 50</td>\n",
       "      <td>31 to 35</td>\n",
       "      <td>36 to 40</td>\n",
       "      <td>31 to 35</td>\n",
       "      <td>51 to 65</td>\n",
       "      <td>31 to 35</td>\n",
       "      <td>31 to 35</td>\n",
       "    </tr>\n",
       "    <tr>\n",
       "      <th>PoliceReportFiled</th>\n",
       "      <td>No</td>\n",
       "      <td>No</td>\n",
       "      <td>No</td>\n",
       "      <td>No</td>\n",
       "      <td>No</td>\n",
       "      <td>No</td>\n",
       "      <td>No</td>\n",
       "      <td>No</td>\n",
       "      <td>No</td>\n",
       "      <td>No</td>\n",
       "      <td>No</td>\n",
       "      <td>No</td>\n",
       "      <td>No</td>\n",
       "      <td>No</td>\n",
       "      <td>No</td>\n",
       "    </tr>\n",
       "    <tr>\n",
       "      <th>WitnessPresent</th>\n",
       "      <td>No</td>\n",
       "      <td>No</td>\n",
       "      <td>No</td>\n",
       "      <td>No</td>\n",
       "      <td>No</td>\n",
       "      <td>No</td>\n",
       "      <td>No</td>\n",
       "      <td>No</td>\n",
       "      <td>No</td>\n",
       "      <td>No</td>\n",
       "      <td>No</td>\n",
       "      <td>No</td>\n",
       "      <td>No</td>\n",
       "      <td>No</td>\n",
       "      <td>No</td>\n",
       "    </tr>\n",
       "    <tr>\n",
       "      <th>AgentType</th>\n",
       "      <td>External</td>\n",
       "      <td>External</td>\n",
       "      <td>External</td>\n",
       "      <td>External</td>\n",
       "      <td>External</td>\n",
       "      <td>External</td>\n",
       "      <td>External</td>\n",
       "      <td>Internal</td>\n",
       "      <td>External</td>\n",
       "      <td>External</td>\n",
       "      <td>External</td>\n",
       "      <td>External</td>\n",
       "      <td>External</td>\n",
       "      <td>External</td>\n",
       "      <td>External</td>\n",
       "    </tr>\n",
       "    <tr>\n",
       "      <th>NumberOfSuppliments</th>\n",
       "      <td>1 to 2</td>\n",
       "      <td>none</td>\n",
       "      <td>1 to 2</td>\n",
       "      <td>none</td>\n",
       "      <td>none</td>\n",
       "      <td>1 to 2</td>\n",
       "      <td>1 to 2</td>\n",
       "      <td>1 to 2</td>\n",
       "      <td>none</td>\n",
       "      <td>1 to 2</td>\n",
       "      <td>none</td>\n",
       "      <td>none</td>\n",
       "      <td>none</td>\n",
       "      <td>none</td>\n",
       "      <td>none</td>\n",
       "    </tr>\n",
       "    <tr>\n",
       "      <th>AddressChange_Claim</th>\n",
       "      <td>no change</td>\n",
       "      <td>2 to 3 years</td>\n",
       "      <td>no change</td>\n",
       "      <td>no change</td>\n",
       "      <td>no change</td>\n",
       "      <td>no change</td>\n",
       "      <td>no change</td>\n",
       "      <td>no change</td>\n",
       "      <td>no change</td>\n",
       "      <td>4 to 8 years</td>\n",
       "      <td>no change</td>\n",
       "      <td>no change</td>\n",
       "      <td>no change</td>\n",
       "      <td>no change</td>\n",
       "      <td>no change</td>\n",
       "    </tr>\n",
       "    <tr>\n",
       "      <th>NumberOfCars</th>\n",
       "      <td>1 vehicle</td>\n",
       "      <td>1 vehicle</td>\n",
       "      <td>1 vehicle</td>\n",
       "      <td>1 vehicle</td>\n",
       "      <td>1 vehicle</td>\n",
       "      <td>1 vehicle</td>\n",
       "      <td>1 vehicle</td>\n",
       "      <td>1 vehicle</td>\n",
       "      <td>1 vehicle</td>\n",
       "      <td>2 vehicles</td>\n",
       "      <td>1 vehicle</td>\n",
       "      <td>1 vehicle</td>\n",
       "      <td>1 vehicle</td>\n",
       "      <td>1 vehicle</td>\n",
       "      <td>1 vehicle</td>\n",
       "    </tr>\n",
       "    <tr>\n",
       "      <th>Year</th>\n",
       "      <td>1994</td>\n",
       "      <td>1995</td>\n",
       "      <td>1995</td>\n",
       "      <td>1994</td>\n",
       "      <td>1995</td>\n",
       "      <td>1995</td>\n",
       "      <td>1994</td>\n",
       "      <td>1994</td>\n",
       "      <td>1995</td>\n",
       "      <td>1995</td>\n",
       "      <td>1994</td>\n",
       "      <td>1994</td>\n",
       "      <td>1996</td>\n",
       "      <td>1994</td>\n",
       "      <td>1996</td>\n",
       "    </tr>\n",
       "    <tr>\n",
       "      <th>BasePolicy</th>\n",
       "      <td>Collision</td>\n",
       "      <td>Liability</td>\n",
       "      <td>All Perils</td>\n",
       "      <td>Collision</td>\n",
       "      <td>Liability</td>\n",
       "      <td>Collision</td>\n",
       "      <td>All Perils</td>\n",
       "      <td>Liability</td>\n",
       "      <td>Liability</td>\n",
       "      <td>Liability</td>\n",
       "      <td>All Perils</td>\n",
       "      <td>Collision</td>\n",
       "      <td>Liability</td>\n",
       "      <td>All Perils</td>\n",
       "      <td>Collision</td>\n",
       "    </tr>\n",
       "  </tbody>\n",
       "</table>\n",
       "</div>"
      ],
      "text/plain": [
       "                                  4011               10026  \\\n",
       "ID                                 4262               7293   \n",
       "Month                               Nov                Dec   \n",
       "WeekOfMonth                           4                  4   \n",
       "DayOfWeek                        Friday           Thursday   \n",
       "Make                             Toyota             Toyota   \n",
       "AccidentArea                      Urban              Urban   \n",
       "DayOfWeekClaimed                 Friday            Tuesday   \n",
       "MonthClaimed                        Nov                Dec   \n",
       "WeekOfMonthClaimed                    4                  4   \n",
       "Sex                                Male             Female   \n",
       "MaritalStatus                   Married             Single   \n",
       "Age                                  28                 24   \n",
       "Fault                     Policy Holder      Policy Holder   \n",
       "PolicyType            Sedan - Collision  Sedan - Liability   \n",
       "VehicleCategory                   Sedan              Sport   \n",
       "VehiclePrice             20000 to 29000     20000 to 29000   \n",
       "FraudFound_P                          0                  0   \n",
       "PolicyNumber                       4263               7294   \n",
       "RepNumber                            15                 11   \n",
       "Deductible                          400                400   \n",
       "DriverRating                          1                  3   \n",
       "Days_Policy_Accident       more than 30       more than 30   \n",
       "Days_Policy_Claim          more than 30       more than 30   \n",
       "PastNumberOfClaims               2 to 4               none   \n",
       "AgeOfVehicle                    6 years            3 years   \n",
       "AgeOfPolicyHolder              31 to 35           26 to 30   \n",
       "PoliceReportFiled                    No                 No   \n",
       "WitnessPresent                       No                 No   \n",
       "AgentType                      External           External   \n",
       "NumberOfSuppliments              1 to 2               none   \n",
       "AddressChange_Claim           no change       2 to 3 years   \n",
       "NumberOfCars                  1 vehicle          1 vehicle   \n",
       "Year                               1994               1995   \n",
       "BasePolicy                    Collision          Liability   \n",
       "\n",
       "                                   6736               489    \\\n",
       "ID                                  6722               2227   \n",
       "Month                                Sep                Feb   \n",
       "WeekOfMonth                            4                  4   \n",
       "DayOfWeek                        Tuesday           Saturday   \n",
       "Make                               Honda            Pontiac   \n",
       "AccidentArea                       Urban              Urban   \n",
       "DayOfWeekClaimed               Wednesday            Tuesday   \n",
       "MonthClaimed                         Sep                Feb   \n",
       "WeekOfMonthClaimed                     5                  5   \n",
       "Sex                               Female               Male   \n",
       "MaritalStatus                    Married            Married   \n",
       "Age                                   62                 34   \n",
       "Fault                      Policy Holder      Policy Holder   \n",
       "PolicyType            Sedan - All Perils  Sedan - Collision   \n",
       "VehicleCategory                    Sedan              Sedan   \n",
       "VehiclePrice              20000 to 29000     30000 to 39000   \n",
       "FraudFound_P                           1                  0   \n",
       "PolicyNumber                        6723               2228   \n",
       "RepNumber                              3                  8   \n",
       "Deductible                           400                400   \n",
       "DriverRating                           3                  4   \n",
       "Days_Policy_Accident        more than 30       more than 30   \n",
       "Days_Policy_Claim           more than 30       more than 30   \n",
       "PastNumberOfClaims           more than 4        more than 4   \n",
       "AgeOfVehicle                 more than 7            7 years   \n",
       "AgeOfPolicyHolder               51 to 65           31 to 35   \n",
       "PoliceReportFiled                     No                 No   \n",
       "WitnessPresent                        No                 No   \n",
       "AgentType                       External           External   \n",
       "NumberOfSuppliments               1 to 2               none   \n",
       "AddressChange_Claim            no change          no change   \n",
       "NumberOfCars                   1 vehicle          1 vehicle   \n",
       "Year                                1995               1994   \n",
       "BasePolicy                    All Perils          Collision   \n",
       "\n",
       "                                  6750               3833   \\\n",
       "ID                                 9081               7316   \n",
       "Month                               Dec                Oct   \n",
       "WeekOfMonth                           4                  3   \n",
       "DayOfWeek                      Thursday             Monday   \n",
       "Make                            Pontiac            Pontiac   \n",
       "AccidentArea                      Urban              Urban   \n",
       "DayOfWeekClaimed                Tuesday          Wednesday   \n",
       "MonthClaimed                        Jan                Oct   \n",
       "WeekOfMonthClaimed                    1                  4   \n",
       "Sex                                Male               Male   \n",
       "MaritalStatus                    Single             Single   \n",
       "Age                                  23                 35   \n",
       "Fault                     Policy Holder      Policy Holder   \n",
       "PolicyType            Sedan - Liability  Sedan - Collision   \n",
       "VehicleCategory                   Sport              Sedan   \n",
       "VehiclePrice             20000 to 29000     30000 to 39000   \n",
       "FraudFound_P                          0                  1   \n",
       "PolicyNumber                       9082               7317   \n",
       "RepNumber                             7                 13   \n",
       "Deductible                          400                700   \n",
       "DriverRating                          2                  4   \n",
       "Days_Policy_Accident       more than 30       more than 30   \n",
       "Days_Policy_Claim          more than 30       more than 30   \n",
       "PastNumberOfClaims          more than 4             2 to 4   \n",
       "AgeOfVehicle                    4 years            7 years   \n",
       "AgeOfPolicyHolder              26 to 30           31 to 35   \n",
       "PoliceReportFiled                    No                 No   \n",
       "WitnessPresent                       No                 No   \n",
       "AgentType                      External           External   \n",
       "NumberOfSuppliments                none             1 to 2   \n",
       "AddressChange_Claim           no change          no change   \n",
       "NumberOfCars                  1 vehicle          1 vehicle   \n",
       "Year                               1995               1995   \n",
       "BasePolicy                    Liability          Collision   \n",
       "\n",
       "                                   1787               6727   \\\n",
       "ID                                   893               4289   \n",
       "Month                                Nov                Jul   \n",
       "WeekOfMonth                            2                  5   \n",
       "DayOfWeek                       Saturday             Sunday   \n",
       "Make                               Mazda              Honda   \n",
       "AccidentArea                       Urban              Rural   \n",
       "DayOfWeekClaimed                  Friday            Tuesday   \n",
       "MonthClaimed                         Nov                Aug   \n",
       "WeekOfMonthClaimed                     3                  1   \n",
       "Sex                               Female               Male   \n",
       "MaritalStatus                    Married            Married   \n",
       "Age                                   45                 41   \n",
       "Fault                        Third Party      Policy Holder   \n",
       "PolicyType            Sedan - All Perils  Sedan - Liability   \n",
       "VehicleCategory                    Sedan              Sport   \n",
       "VehiclePrice              20000 to 29000     30000 to 39000   \n",
       "FraudFound_P                           0                  0   \n",
       "PolicyNumber                         894               4290   \n",
       "RepNumber                             13                  4   \n",
       "Deductible                           400                400   \n",
       "DriverRating                           2                  4   \n",
       "Days_Policy_Accident        more than 30       more than 30   \n",
       "Days_Policy_Claim           more than 30       more than 30   \n",
       "PastNumberOfClaims                  none               none   \n",
       "AgeOfVehicle                     6 years            7 years   \n",
       "AgeOfPolicyHolder               36 to 40           36 to 40   \n",
       "PoliceReportFiled                     No                 No   \n",
       "WitnessPresent                        No                 No   \n",
       "AgentType                       External           Internal   \n",
       "NumberOfSuppliments               1 to 2             1 to 2   \n",
       "AddressChange_Claim            no change          no change   \n",
       "NumberOfCars                   1 vehicle          1 vehicle   \n",
       "Year                                1994               1994   \n",
       "BasePolicy                    All Perils          Liability   \n",
       "\n",
       "                                  4463               276    \\\n",
       "ID                                11315               9702   \n",
       "Month                               Mar                Mar   \n",
       "WeekOfMonth                           1                  3   \n",
       "DayOfWeek                      Thursday            Tuesday   \n",
       "Make                            Pontiac            Pontiac   \n",
       "AccidentArea                      Urban              Urban   \n",
       "DayOfWeekClaimed                 Friday          Wednesday   \n",
       "MonthClaimed                        Mar                Mar   \n",
       "WeekOfMonthClaimed                    1                  4   \n",
       "Sex                              Female               Male   \n",
       "MaritalStatus                   Married             Single   \n",
       "Age                                  50                 29   \n",
       "Fault                     Policy Holder        Third Party   \n",
       "PolicyType            Sedan - Liability  Sedan - Liability   \n",
       "VehicleCategory                   Sport              Sport   \n",
       "VehiclePrice             20000 to 29000     30000 to 39000   \n",
       "FraudFound_P                          0                  0   \n",
       "PolicyNumber                      11316               9703   \n",
       "RepNumber                             3                 11   \n",
       "Deductible                          400                400   \n",
       "DriverRating                          3                  2   \n",
       "Days_Policy_Accident       more than 30       more than 30   \n",
       "Days_Policy_Claim          more than 30       more than 30   \n",
       "PastNumberOfClaims               2 to 4        more than 4   \n",
       "AgeOfVehicle                    6 years            6 years   \n",
       "AgeOfPolicyHolder              41 to 50           31 to 35   \n",
       "PoliceReportFiled                    No                 No   \n",
       "WitnessPresent                       No                 No   \n",
       "AgentType                      External           External   \n",
       "NumberOfSuppliments                none             1 to 2   \n",
       "AddressChange_Claim           no change       4 to 8 years   \n",
       "NumberOfCars                  1 vehicle         2 vehicles   \n",
       "Year                               1995               1995   \n",
       "BasePolicy                    Liability          Liability   \n",
       "\n",
       "                                   9400               2321   \\\n",
       "ID                                   138                598   \n",
       "Month                                Dec                Aug   \n",
       "WeekOfMonth                            4                  4   \n",
       "DayOfWeek                      Wednesday             Friday   \n",
       "Make                             Mercury             Toyota   \n",
       "AccidentArea                       Urban              Urban   \n",
       "DayOfWeekClaimed                Thursday             Friday   \n",
       "MonthClaimed                         Jan                Sep   \n",
       "WeekOfMonthClaimed                     1                  1   \n",
       "Sex                                 Male               Male   \n",
       "MaritalStatus                    Married            Married   \n",
       "Age                                   42                 26   \n",
       "Fault                      Policy Holder      Policy Holder   \n",
       "PolicyType            Sedan - All Perils  Sedan - Collision   \n",
       "VehicleCategory                    Sedan              Sedan   \n",
       "VehiclePrice              20000 to 29000     20000 to 29000   \n",
       "FraudFound_P                           0                  0   \n",
       "PolicyNumber                         139                599   \n",
       "RepNumber                              2                 16   \n",
       "Deductible                           400                400   \n",
       "DriverRating                           2                  4   \n",
       "Days_Policy_Accident        more than 30       more than 30   \n",
       "Days_Policy_Claim           more than 30       more than 30   \n",
       "PastNumberOfClaims           more than 4               none   \n",
       "AgeOfVehicle                     7 years            7 years   \n",
       "AgeOfPolicyHolder               36 to 40           31 to 35   \n",
       "PoliceReportFiled                     No                 No   \n",
       "WitnessPresent                        No                 No   \n",
       "AgentType                       External           External   \n",
       "NumberOfSuppliments                 none               none   \n",
       "AddressChange_Claim            no change          no change   \n",
       "NumberOfCars                   1 vehicle          1 vehicle   \n",
       "Year                                1994               1994   \n",
       "BasePolicy                    All Perils          Collision   \n",
       "\n",
       "                                  7515                3916               4737   \n",
       "ID                                12633                5518              12975  \n",
       "Month                               Oct                 Aug                Dec  \n",
       "WeekOfMonth                           4                   1                  1  \n",
       "DayOfWeek                        Friday              Friday            Tuesday  \n",
       "Make                              Dodge              Toyota          Chevrolet  \n",
       "AccidentArea                      Urban               Urban              Urban  \n",
       "DayOfWeekClaimed                 Monday            Thursday           Thursday  \n",
       "MonthClaimed                        Oct                 Sep                Dec  \n",
       "WeekOfMonthClaimed                    5                   1                  2  \n",
       "Sex                                Male                Male             Female  \n",
       "MaritalStatus                   Married             Married            Married  \n",
       "Age                                  63                  26                 31  \n",
       "Fault                     Policy Holder       Policy Holder      Policy Holder  \n",
       "PolicyType            Sedan - Liability  Sedan - All Perils  Sedan - Collision  \n",
       "VehicleCategory                   Sport               Sedan              Sedan  \n",
       "VehiclePrice             30000 to 39000      20000 to 29000     30000 to 39000  \n",
       "FraudFound_P                          0                   1                  0  \n",
       "PolicyNumber                      12634                5519              12976  \n",
       "RepNumber                            15                  11                  4  \n",
       "Deductible                          400                 700                400  \n",
       "DriverRating                          4                   3                  2  \n",
       "Days_Policy_Accident       more than 30        more than 30       more than 30  \n",
       "Days_Policy_Claim          more than 30        more than 30       more than 30  \n",
       "PastNumberOfClaims          more than 4                none               none  \n",
       "AgeOfVehicle                more than 7             7 years            6 years  \n",
       "AgeOfPolicyHolder              51 to 65            31 to 35           31 to 35  \n",
       "PoliceReportFiled                    No                  No                 No  \n",
       "WitnessPresent                       No                  No                 No  \n",
       "AgentType                      External            External           External  \n",
       "NumberOfSuppliments                none                none               none  \n",
       "AddressChange_Claim           no change           no change          no change  \n",
       "NumberOfCars                  1 vehicle           1 vehicle          1 vehicle  \n",
       "Year                               1996                1994               1996  \n",
       "BasePolicy                    Liability          All Perils          Collision  "
      ]
     },
     "execution_count": 6,
     "metadata": {},
     "output_type": "execute_result"
    }
   ],
   "source": [
    "df.sample(15).T"
   ]
  },
  {
   "cell_type": "markdown",
   "id": "cb7a8237-6377-419e-8bd1-8b9b6f9394a0",
   "metadata": {
    "pycharm": {
     "name": "#%% md\n"
    }
   },
   "source": [
    "Det finnes en metode for å finne ut hvor mange ganger hver unike verdi forekommer i en kolonne!\n",
    "\n",
    "Her kan vi se at det er et stort overtall av menn i kategorien kjønn, altså \"Sex\" "
   ]
  },
  {
   "cell_type": "code",
   "execution_count": 6,
   "id": "c31163f5-4743-4682-9c98-8ca6ba84c4cb",
   "metadata": {
    "pycharm": {
     "name": "#%%\n"
    },
    "tags": []
   },
   "outputs": [
    {
     "data": {
      "text/plain": [
       "Male      9767\n",
       "Female    1798\n",
       "Name: Sex, dtype: int64"
      ]
     },
     "execution_count": 6,
     "metadata": {},
     "output_type": "execute_result"
    }
   ],
   "source": [
    "df[\"Sex\"].value_counts()"
   ]
  },
  {
   "cell_type": "markdown",
   "id": "4826b5f5-7558-4358-ab2e-657b546804b1",
   "metadata": {
    "pycharm": {
     "name": "#%% md\n"
    }
   },
   "source": [
    "#### Prosentvis fordeling av fasit\n",
    "\n",
    "\"fasit\" for maskinlæringsmodellen vår er jo \"avdekket svindel\"/\"ikke avdekket svindel\". Men hvor mange avdekkede svindelsaker er det?"
   ]
  },
  {
   "cell_type": "code",
   "execution_count": 5,
   "id": "bcfe5370-8563-49c3-941d-e12e9e926062",
   "metadata": {
    "pycharm": {
     "name": "#%%\n"
    },
    "tags": []
   },
   "outputs": [
    {
     "name": "stdout",
     "output_type": "stream",
     "text": [
      "Datasettet består av 34 forklaringsvariabler og 11565 observasjoner.\n",
      "94% av observasjonene er ikke markert som svindel\n",
      "6% av observasjonene er markert som svindel\n"
     ]
    }
   ],
   "source": [
    "total_fraud=(df.FraudFound_P.value_counts()[1]+df.FraudFound_P.value_counts()[0])\n",
    "not_fraud=df.FraudFound_P.value_counts()[0]\n",
    "fraud=df.FraudFound_P.value_counts()[1]\n",
    "prct_not_fraud=not_fraud/total_fraud*100\n",
    "prct_fraud=fraud/total_fraud*100\n",
    "print(f'Datasettet består av {df.shape[1]} forklaringsvariabler og {len(df)} observasjoner.')\n",
    "print(f\"{round(prct_not_fraud)}% av observasjonene er ikke markert som svindel\")\n",
    "print(f\"{round(prct_fraud)}% av observasjonene er markert som svindel\")"
   ]
  },
  {
   "cell_type": "markdown",
   "id": "ccfb1f92-73ce-49ef-8eb4-ad1499f9b5ae",
   "metadata": {
    "pycharm": {
     "name": "#%% md\n"
    }
   },
   "source": [
    "Dette betyr at vi har en stor ubalanse i fasiten vår som forteller oss om kunden har begått svindel eller ikke"
   ]
  },
  {
   "cell_type": "markdown",
   "id": "fb60c0f2",
   "metadata": {
    "pycharm": {
     "name": "#%% md\n"
    }
   },
   "source": [
    "#### Lister unike verdier for hver forklaringsvariabel\n",
    "\n",
    "Det kan hjelpe oss med å finne feil eller se andre sammenhenger hvor vi kan forbedre datagrunnlaget vårt."
   ]
  },
  {
   "cell_type": "code",
   "execution_count": 13,
   "id": "989884b0",
   "metadata": {
    "collapsed": false,
    "jupyter": {
     "outputs_hidden": false
    },
    "pycharm": {
     "name": "#%%\n"
    },
    "tags": []
   },
   "outputs": [
    {
     "name": "stdout",
     "output_type": "stream",
     "text": [
      "ID: \n",
      "\t[ 1068  2945  6883 ... 11245  8374  2226]\n",
      "\n",
      "Month: \n",
      "\t['Nov' 'Jun' 'Jan' 'Oct' 'Sep' 'Feb' 'Dec' 'Jul' 'Apr' 'May' 'Aug' 'Mar']\n",
      "\n",
      "WeekOfMonth: \n",
      "\t[5 3 4 2 1]\n",
      "\n",
      "DayOfWeek: \n",
      "\t['Monday' 'Thursday' 'Friday' 'Saturday' 'Wednesday' 'Tuesday' 'Sunday']\n",
      "\n",
      "Make: \n",
      "\t['Accura' 'Chevrolet' 'Mazda' 'Toyota' 'Honda' 'Pontiac' 'VW' 'Dodge'\n",
      " 'Mercury' 'Saab' 'Ford' 'Saturn' 'Nisson' 'BMW' 'Porche' 'Ferrari'\n",
      " 'Jaguar' 'Mecedes' 'Lexus']\n",
      "\n",
      "AccidentArea: \n",
      "\t['Urban' 'Rural']\n",
      "\n",
      "DayOfWeekClaimed: \n",
      "\t['Thursday' 'Friday' 'Monday' 'Tuesday' 'Wednesday' 'Saturday' 'Sunday'\n",
      " '0']\n",
      "\n",
      "MonthClaimed: \n",
      "\t['Dec' 'Jul' 'Feb' 'Nov' 'Oct' 'Sep' 'Jan' 'Apr' 'Mar' 'May' 'Aug' 'Jun'\n",
      " '0']\n",
      "\n",
      "WeekOfMonthClaimed: \n",
      "\t[1 5 3 2 4]\n",
      "\n",
      "Sex: \n",
      "\t['Male' 'Female']\n",
      "\n",
      "MaritalStatus: \n",
      "\t['Married' 'Single' 'Divorced' 'Widow']\n",
      "\n",
      "Age: \n",
      "\t[36 33 46 27 45 59 28 48 55 72 29 49 58 61 53 32 40 39 51  0 52 60 43 35\n",
      " 54 34 64 37 31 26 77 47 30 50 63 42 57 56 22 38 23 65 44 73 70 21 25 62\n",
      " 76 24 80 18 71 79 41 68 75 67 66 19 17 78 69 20 74 16]\n",
      "\n",
      "Fault: \n",
      "\t['Policy Holder' 'Third Party']\n",
      "\n",
      "PolicyType: \n",
      "\t['Sedan - Collision' 'Sedan - Liability' 'Sedan - All Perils'\n",
      " 'Sport - Collision' 'Utility - All Perils' 'Utility - Collision'\n",
      " 'Sport - Liability' 'Utility - Liability' 'Sport - All Perils']\n",
      "\n",
      "VehicleCategory: \n",
      "\t['Sedan' 'Sport' 'Utility']\n",
      "\n",
      "VehiclePrice: \n",
      "\t['more than 69000' '20000 to 29000' '30000 to 39000' 'less than 20000'\n",
      " '40000 to 59000' '60000 to 69000']\n",
      "\n",
      "FraudFound_P: \n",
      "\t[0 1]\n",
      "\n",
      "PolicyNumber: \n",
      "\t[ 1069  2946  6884 ... 11246  8375  2227]\n",
      "\n",
      "RepNumber: \n",
      "\t[11  8 12 15  3  1  2  6  9 14 10  7 13  4  5 16]\n",
      "\n",
      "Deductible: \n",
      "\t[400 500 700 300]\n",
      "\n",
      "DriverRating: \n",
      "\t[2 3 1 4]\n",
      "\n",
      "Days_Policy_Accident: \n",
      "\t['more than 30' '8 to 15' '1 to 7' '15 to 30' 'none']\n",
      "\n",
      "Days_Policy_Claim: \n",
      "\t['more than 30' '8 to 15' '15 to 30' 'none']\n",
      "\n",
      "PastNumberOfClaims: \n",
      "\t['2 to 4' 'none' 'more than 4' '1']\n",
      "\n",
      "AgeOfVehicle: \n",
      "\t['7 years' '6 years' '5 years' 'more than 7' 'new' '4 years' '3 years'\n",
      " '2 years']\n",
      "\n",
      "AgeOfPolicyHolder: \n",
      "\t['36 to 40' '31 to 35' '41 to 50' '51 to 65' 'over 65' '16 to 17'\n",
      " '26 to 30' '21 to 25' '18 to 20']\n",
      "\n",
      "PoliceReportFiled: \n",
      "\t['No' 'Yes']\n",
      "\n",
      "WitnessPresent: \n",
      "\t['No' 'Yes']\n",
      "\n",
      "AgentType: \n",
      "\t['External' 'Internal']\n",
      "\n",
      "NumberOfSuppliments: \n",
      "\t['more than 5' 'none' '1 to 2' '3 to 5']\n",
      "\n",
      "AddressChange_Claim: \n",
      "\t['no change' '1 year' '2 to 3 years' '4 to 8 years' 'under 6 months']\n",
      "\n",
      "NumberOfCars: \n",
      "\t['1 vehicle' '3 to 4' '2 vehicles' '5 to 8' 'more than 8']\n",
      "\n",
      "Year: \n",
      "\t[1994 1995 1996]\n",
      "\n",
      "BasePolicy: \n",
      "\t['Collision' 'Liability' 'All Perils']\n",
      "\n"
     ]
    }
   ],
   "source": [
    "from pprint import pprint\n",
    "for col in df:\n",
    "    print(f\"{col}: \\n\\t{df[col].unique()}\\n\")       "
   ]
  },
  {
   "cell_type": "markdown",
   "id": "0d7c5901",
   "metadata": {
    "pycharm": {
     "name": "#%% md\n"
    }
   },
   "source": [
    "#### Vi deler forklaringsvariablene inn i kategoriske og numeriske variabler\n",
    "Ved hjelp av oversikten over kan vi avgjøre hvilke forklaringsvariabler som skal være kategoriske og hvilke som skal være numeriske. Om vi bestemmer at en forklaringsvariabel skal være kategorisk, kan det allikevel være nyttig å ordne eller sortere verdiene. Det kan hjelpe tremodellen vår til å gjøre bedre og mer effektive valg. Det kan også være nyttig å lage en ny variabel basert på en vi allerede har. For eksempel fra måned til sesong."
   ]
  },
  {
   "cell_type": "markdown",
   "id": "48a857b7",
   "metadata": {
    "pycharm": {
     "name": "#%% md\n"
    }
   },
   "source": [
    "#### Tre eksempler på mapping av data\n",
    "I de tre neste blokkene, viser vi tre eksempler på hvordan man kan mappe data. Dere må selv mappe alle andre kontinuerlige variabler fra typen string til type int eller float for at de skal kunne gjøre nytten sin i en logistisk regressjonsmodell. I tillegg anbefaler vi å ordne alle kategoriske variabler som har en meningsfull rekkefølge.    \n",
    "\n"
   ]
  },
  {
   "cell_type": "markdown",
   "id": "f4df6394",
   "metadata": {
    "pycharm": {
     "name": "#%% md\n"
    }
   },
   "source": [
    "##### Vi legger til en ny forkalringsvariabel \"Season\" ved å mappe Month til Season"
   ]
  },
  {
   "cell_type": "code",
   "execution_count": 7,
   "id": "dec9e46a",
   "metadata": {
    "collapsed": false,
    "jupyter": {
     "outputs_hidden": false
    },
    "pycharm": {
     "name": "#%%\n"
    },
    "tags": []
   },
   "outputs": [
    {
     "name": "stdout",
     "output_type": "stream",
     "text": [
      "['Winter' 'Summer' 'Fall' 'Spring']\n"
     ]
    }
   ],
   "source": [
    "season_mapping = {\n",
    "    \"Jan\":\"Winter\",\n",
    "    \"Feb\":\"Winter\",\n",
    "    \"Mar\":\"Spring\",\n",
    "    \"Apr\":\"Spring\",\n",
    "    \"May\":\"Spring\",\n",
    "    \"Jun\":\"Summer\",\n",
    "    \"Jul\":\"Summer\",\n",
    "    \"Aug\":\"Summer\",\n",
    "    \"Sep\":\"Fall\",\n",
    "    \"Oct\":\"Fall\",\n",
    "    \"Nov\":\"Winter\",\n",
    "    \"Dec\":\"Winter\"\n",
    "}\n",
    "df[\"Season\"] = df[\"Month\"].map(season_mapping)\n",
    "print(df[\"Season\"].unique())"
   ]
  },
  {
   "cell_type": "markdown",
   "id": "7a20bb39",
   "metadata": {
    "pycharm": {
     "name": "#%% md\n"
    }
   },
   "source": [
    "##### Mapping av den kategoriske variabelen Month fra string til en ordnet tallrekke av typen int"
   ]
  },
  {
   "cell_type": "code",
   "execution_count": 8,
   "id": "48aa2017",
   "metadata": {
    "collapsed": false,
    "jupyter": {
     "outputs_hidden": false
    },
    "pycharm": {
     "name": "#%%\n"
    },
    "tags": []
   },
   "outputs": [
    {
     "name": "stdout",
     "output_type": "stream",
     "text": [
      "[11  6  1 10  9  2 12  7  4  5  8  3]\n"
     ]
    }
   ],
   "source": [
    "month_mapping = {\n",
    "    \"Jan\":1,\n",
    "    \"Feb\":2,\n",
    "    \"Mar\":3,\n",
    "    \"Apr\":4,\n",
    "    \"May\":5,\n",
    "    \"Jun\":6,\n",
    "    \"Jul\":7,\n",
    "    \"Aug\":8,\n",
    "    \"Sep\":9,\n",
    "    \"Oct\":10,\n",
    "    \"Nov\":11,\n",
    "    \"Dec\":12\n",
    "}\n",
    "df=df.replace({\"Month\": month_mapping})\n",
    "print(df[\"Month\"].unique())"
   ]
  },
  {
   "cell_type": "markdown",
   "id": "b3a49256",
   "metadata": {
    "pycharm": {
     "name": "#%% md\n"
    }
   },
   "source": [
    "##### Vi mapper den numeriske variabelen AddressChange_Claim til en ordnet tallrekke\n"
   ]
  },
  {
   "cell_type": "code",
   "execution_count": 9,
   "id": "960c91f4",
   "metadata": {
    "collapsed": false,
    "jupyter": {
     "outputs_hidden": false
    },
    "pycharm": {
     "name": "#%%\n"
    },
    "tags": []
   },
   "outputs": [
    {
     "name": "stdout",
     "output_type": "stream",
     "text": [
      "[7 6 5 8 1 4 3 2]\n"
     ]
    }
   ],
   "source": [
    "ageofvehicle_mapping = {\n",
    "    \"new\": 1,\n",
    "    \"2 years\": 2,\n",
    "    \"3 years\": 3,\n",
    "    \"4 years\": 4,\n",
    "    \"5 years\": 5,\n",
    "    \"6 years\": 6,\n",
    "    \"7 years\": 7,\n",
    "    \"more than 7\": 8\n",
    "}\n",
    "df=df.replace({\"AgeOfVehicle\": ageofvehicle_mapping})\n",
    "print(df[\"AgeOfVehicle\"].unique())"
   ]
  },
  {
   "cell_type": "markdown",
   "id": "88a36db4",
   "metadata": {
    "pycharm": {
     "name": "#%% md\n"
    }
   },
   "source": [
    "#### One Hot / Dummies\n",
    "\n",
    "Hvis du vil encode en kategorisk variabel som OneHot/Dummy finnes det en kjekk funksjon for det i pandas!\n",
    "\n",
    "`df = pd.get_dummies(df, columns=['kategorisk_kolonne1', 'kategorisk_kolonne2'])`\n",
    "\n",
    "Denne koden vil erstatte 'kategorisk_kolonne1' og 'kategorisk_kolonne2' i 'df' med like mange binære kolonner per variabel som det er unike verdier.\n",
    "\n",
    "Hvis du lurer på hva en \"One Hot\" eller \"Dummy\"-variabel er eller om det er riktig for dere, er det vare å google i vei!"
   ]
  },
  {
   "cell_type": "markdown",
   "id": "8f93a568",
   "metadata": {
    "pycharm": {
     "name": "#%% md\n"
    }
   },
   "source": [
    "#### Konvertering av numeriske variabler som er object/strenger\n",
    "\n",
    "Hvis du mener at en kolonne inneholder verdier som lett kan konverteres til tall direkte fordi de er strenger som \"1\", \"2.5\", osv, kan du bruke en direkte konverteringsmetode.\n",
    "\n",
    "```\n",
    "object_columns = df[\"object_col1\", \"object_col2\"]\n",
    "converted_columns = object_columns.apply(pd.to_numeric, errors = 'coerce')\n",
    "df[\"object_col1\", \"object_col2\"] = converted_columns\n",
    "```\n",
    "\n",
    "Her applikeres pandas sin \"to_numeric\"-metode til hver enkelt kolonne i dataframen \"object_columns\", og \"coerce\" betyr at errors som oppstår når verdiene ikke kan konverteres til et tall blir tvunget til verdien \"Not A Number\". "
   ]
  },
  {
   "cell_type": "markdown",
   "id": "1db418e7",
   "metadata": {
    "pycharm": {
     "name": "#%% md\n"
    }
   },
   "source": [
    "#### ⚠️ Lag nye kodeblokker nedenfor hvor du gjør de resterende mappingene"
   ]
  },
  {
   "cell_type": "code",
   "execution_count": null,
   "id": "38bc846b",
   "metadata": {
    "collapsed": false,
    "jupyter": {
     "outputs_hidden": false
    },
    "pycharm": {
     "name": "#%%\n"
    }
   },
   "outputs": [],
   "source": []
  },
  {
   "cell_type": "markdown",
   "id": "59adbc99",
   "metadata": {
    "pycharm": {
     "name": "#%% md\n"
    }
   },
   "source": [
    "#### Vi sjekker om det er duplikater"
   ]
  },
  {
   "cell_type": "code",
   "execution_count": null,
   "id": "42c15379",
   "metadata": {
    "collapsed": false,
    "jupyter": {
     "outputs_hidden": false
    },
    "pycharm": {
     "name": "#%%\n"
    }
   },
   "outputs": [],
   "source": [
    "df.duplicated().any()"
   ]
  },
  {
   "cell_type": "markdown",
   "id": "ffdbe0cc",
   "metadata": {
    "pycharm": {
     "name": "#%% md\n"
    }
   },
   "source": [
    "#### Vi sjekker om det er \"NA\"-verdier i datasettet\n",
    "\n",
    "NA er en paraplybetegnelse for spesielle typer som er ment å symbolisere en manglende verdi, eller en feilverdi. Noen eksempler på dette er \"None\", \"Null\" og \"Not a Number\"(i en numerisk variabel)."
   ]
  },
  {
   "cell_type": "code",
   "execution_count": null,
   "id": "ec1deb7a",
   "metadata": {
    "collapsed": false,
    "jupyter": {
     "outputs_hidden": false
    },
    "pycharm": {
     "name": "#%%\n"
    }
   },
   "outputs": [],
   "source": [
    "df.isna().any()"
   ]
  },
  {
   "cell_type": "markdown",
   "id": "f1889539",
   "metadata": {
    "pycharm": {
     "name": "#%% md\n"
    }
   },
   "source": [
    "#### Er det noen 0-verdier der det ikke bør være det?"
   ]
  },
  {
   "cell_type": "code",
   "execution_count": null,
   "id": "cb7d99a6",
   "metadata": {
    "collapsed": false,
    "jupyter": {
     "outputs_hidden": false
    },
    "pycharm": {
     "name": "#%%\n"
    }
   },
   "outputs": [],
   "source": [
    "for col in df:\n",
    "    if df[col].dtype == int:\n",
    "        count = (df[col] == 0).sum()\n",
    "    else:\n",
    "        count = (df[col] == '0').sum()\n",
    "    if count > 0:\n",
    "        print(f'{col} {count}')"
   ]
  },
  {
   "cell_type": "markdown",
   "id": "46a22e32",
   "metadata": {
    "pycharm": {
     "name": "#%% md\n"
    }
   },
   "source": [
    "Ja, vi fant ut at Age-variabelen har hele 232 0-verdier, her er det noe som ikke stemmer.\n",
    "Vi må finne ut hva vi skal mappe denne til. Vi kan enten finne en annen verdi/mean-verdi basert på informasjon fra de andre variablene. Eller vi kan beholde den som 0. I en linær modell er nok en mean verdi viktigere å sette inn enn i en tremodell."
   ]
  },
  {
   "cell_type": "code",
   "execution_count": null,
   "id": "c594b23b",
   "metadata": {
    "collapsed": false,
    "jupyter": {
     "outputs_hidden": false
    },
    "pycharm": {
     "name": "#%%\n"
    }
   },
   "outputs": [],
   "source": [
    "df[\"Age\"].loc[df[\"Age\"] == 0] = 16"
   ]
  },
  {
   "cell_type": "code",
   "execution_count": null,
   "id": "a3c76cdb",
   "metadata": {
    "collapsed": false,
    "jupyter": {
     "outputs_hidden": false
    },
    "pycharm": {
     "name": "#%%\n"
    }
   },
   "outputs": [],
   "source": [
    "print(df[\"Age\"].unique())"
   ]
  },
  {
   "cell_type": "markdown",
   "id": "ab31e772",
   "metadata": {
    "pycharm": {
     "name": "#%% md\n"
    }
   },
   "source": [
    "Her følger eksempelkode for å plotte distribusjonen av verdiene i en kontinuerlig inputvariabel.\n",
    "\n",
    "`seaborn` er et plottegrafikkbibliotek, og `scipy` er et vitenskapelig statistikkbibliotek.\n",
    "\n",
    "Det kan ofte lønne seg å plotte distribusjonene av variablerne dine for å se etter feil og spennende mønstre!"
   ]
  },
  {
   "cell_type": "code",
   "execution_count": 19,
   "id": "f45ecba2",
   "metadata": {
    "collapsed": false,
    "jupyter": {
     "outputs_hidden": false
    },
    "pycharm": {
     "name": "#%%\n"
    },
    "tags": []
   },
   "outputs": [
    {
     "name": "stderr",
     "output_type": "stream",
     "text": [
      "/var/folders/8w/nx3yt_x53p18ydt5xzlv3pyj3kqmgv/T/ipykernel_14737/87740386.py:5: UserWarning: \n",
      "\n",
      "`distplot` is a deprecated function and will be removed in seaborn v0.14.0.\n",
      "\n",
      "Please adapt your code to use either `displot` (a figure-level function with\n",
      "similar flexibility) or `histplot` (an axes-level function for histograms).\n",
      "\n",
      "For a guide to updating your code to use the new functions, please see\n",
      "https://gist.github.com/mwaskom/de44147ed2974457ad6372750bbe5751\n",
      "\n",
      "  ax = sns.distplot(df[\"Age\"], fit=stats.norm)\n"
     ]
    },
    {
     "data": {
      "image/png": "[encoded data removed]",
      "text/plain": [
       "<Figure size 640x480 with 1 Axes>"
      ]
     },
     "metadata": {},
     "output_type": "display_data"
    }
   ],
   "source": [
    "import seaborn as sns\n",
    "import scipy.stats as stats\n",
    "\n",
    "skew = df[\"Age\"].skew()  # Denne tegner en linje som viser hvor forskøvet fra normalfordelingen dataene våre er\n",
    "ax = sns.distplot(df[\"Age\"], fit=stats.norm)"
   ]
  },
  {
   "cell_type": "markdown",
   "id": "2c63e85b",
   "metadata": {
    "pycharm": {
     "name": "#%% md\n"
    }
   },
   "source": [
    "#### ⚠️ Skriv inn kategoriske forklaringsvariabler som skal enkodes til heltall mellom 0 og n (antall unike verdier i kolonne)\n",
    "\n",
    "Det er lagt inn et par eksempler, men ta deres egen vurdering.\n",
    "\n",
    "Denne metoden vil omgjøre alle variabler til et tall mellom 0 og n, hvor n er altall unike verdier i kolonnen! For uordnede kategoriske inputvariabler til logistisk regresjon er ikke dette en serlig god løsning, men den kan være god når man gjør kategorienkoding for trebaserte algoritmer! "
   ]
  },
  {
   "cell_type": "code",
   "execution_count": null,
   "id": "4d76b54d",
   "metadata": {
    "collapsed": false,
    "jupyter": {
     "outputs_hidden": false
    },
    "pycharm": {
     "name": "#%%\n"
    }
   },
   "outputs": [],
   "source": [
    "categorical_features=['Month', 'Sex']"
   ]
  },
  {
   "cell_type": "markdown",
   "id": "4d43bfa4",
   "metadata": {
    "pycharm": {
     "name": "#%% md\n"
    }
   },
   "source": [
    "#### Encoding vil bare fungere dersom du har mappet alle de numeriske forklaringsvariablene riktig. "
   ]
  },
  {
   "cell_type": "code",
   "execution_count": null,
   "id": "0d4f7d6a",
   "metadata": {
    "collapsed": false,
    "jupyter": {
     "outputs_hidden": false
    },
    "pycharm": {
     "name": "#%%\n"
    }
   },
   "outputs": [],
   "source": [
    "from sklearn.preprocessing import LabelEncoder\n",
    "\n",
    "df[categorical_features] = df[categorical_features].apply(LabelEncoder().fit_transform)"
   ]
  },
  {
   "cell_type": "markdown",
   "id": "f50da06e",
   "metadata": {
    "pycharm": {
     "name": "#%% md\n"
    }
   },
   "source": [
    "#### ⚠️ Det kan være du vil droppe noen av kolonnene fra dataen, før du sender dem til maskinlæringsmodellene dine.\n",
    "\n",
    "For eksempel om du ikke \n",
    "\n",
    "`df = df.drop(axis=1, labels=[’kolonnenavn’])`\n",
    "\n",
    "dropper alle kolonnenavn i \"labels\"-lista fra DataFramen\n"
   ]
  },
  {
   "cell_type": "markdown",
   "id": "2e261507-6b2d-4b73-8ac1-eff70c6e29de",
   "metadata": {},
   "source": [
    "### Skriv resultatene til en fil\n",
    "\n",
    "Denne filen skal brukes i den andre notebooken, og leveres på scoreboardet til oppgave 1 (mer info om det i den andre notebooken!)"
   ]
  },
  {
   "cell_type": "code",
   "execution_count": 20,
   "id": "d344fed6-5a6e-4fc0-bb14-0a7045ce7962",
   "metadata": {
    "tags": []
   },
   "outputs": [],
   "source": [
    "df.to_parquet('data/fraud_processed.pq')"
   ]
  },
  {
   "cell_type": "code",
   "execution_count": null,
   "id": "85caab03-ac8b-41e6-8da3-444a3b58b683",
   "metadata": {},
   "outputs": [],
   "source": []
  }
 ],
 "metadata": {
  "kernelspec": {
   "display_name": "Python 3 (ipykernel)",
   "language": "python",
   "name": "python3"
  },
  "language_info": {
   "codemirror_mode": {
    "name": "ipython",
    "version": 3
   },
   "file_extension": ".py",
   "mimetype": "text/x-python",
   "name": "python",
   "nbconvert_exporter": "python",
   "pygments_lexer": "ipython3",
   "version": "3.10.6"
  }
 },
 "nbformat": 4,
 "nbformat_minor": 5
}
