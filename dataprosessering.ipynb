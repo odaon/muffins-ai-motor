{
 "cells": [
  {
   "cell_type": "markdown",
   "id": "c8f40e25-43c9-452f-b277-cd03aefaa1b6",
   "metadata": {
    "pycharm": {
     "name": "#%% md\n"
    }
   },
   "source": [
    "## Undersøkelse og forberedelse av data\n",
    "\n",
    "I denne notebooken har vi skrevet eksempelkode for hvordan man skal klargjøre data til modellering. Det er nødvendig å gjøre egne mappinger, samt ta avgjørelser for hva som skal være kategoriske variabler for å få et ferdig datasett som kan brukes videre i maskinlæringsdelen av workshopen. Du er derfor nødt til å gjøre en grundig jobb her for å komme videre til neste notebook. "
   ]
  },
  {
   "cell_type": "markdown",
   "id": "13c7aca2-09cf-4096-b5ba-21a71735100a",
   "metadata": {
    "pycharm": {
     "name": "#%% md\n"
    }
   },
   "source": [
    "Før vi kan begynne med modelleringen er vi nødt til å undersøke dataene grundig. Vi må få en oversikt over:\n",
    "* Størrelsen\n",
    "* Fordelingen på fasiten vår\n",
    "* Mangler vi data?\n",
    "* Finner vi noe rart?\n",
    "* Hva er kategorisk og hva er numerisk?\n",
    "* Hva må mappes og hva må ordnes?\n",
    "* Ser vi noen sammenhenger som utgjør nye variabler?\n",
    "* Enkoding\n",
    "\n",
    "Én verktøykasse i python som vi kan bruke til alle disse tingene heter \"Pandas\". I pandas får man en praktisk klasse for å representere data som en tabell, som heter en \"DataFrame\". Hvis man trenger å gjøre noe som helst med dataen sin, er det med stor sansynlighet en god måte å gjøre det på i Pandas! Så da er det bare å google hva enn du vill gjøre (f.eks. \"pandas average of column\", eller \"pandas unique values in column\") for å få masse forklaringer og eksempelkode.\n",
    "\n",
    "Pandas kan lese inn data fra formater som CSV og Parquet rett til en DataFrame! Den har kolonner med forskjellige variabler, og hver rad i tabellen er data som hører sammen. I vårt tilfelle er hver rad én forsikringsskadesak, og hver kolonne er én variabel om personen, forsikringsobjektet eller omstendighetene for skaden."
   ]
  },
  {
   "cell_type": "markdown",
   "id": "0957f2b9-176c-4f56-8bfb-e2b2bf1a8dfc",
   "metadata": {
    "pycharm": {
     "name": "#%% md\n"
    }
   },
   "source": [
    "#### Vi starter med å lese inn datasettet til en pandas dataframe"
   ]
  },
  {
   "cell_type": "code",
   "execution_count": 1,
   "id": "ac233e0c-5401-4676-ba95-3725dee5d07b",
   "metadata": {
    "pycharm": {
     "name": "#%%\n"
    },
    "tags": []
   },
   "outputs": [],
   "source": [
    "import pandas as pd\n",
    "df = pd.read_csv('data/fraud.csv')"
   ]
  },
  {
   "cell_type": "markdown",
   "id": "694ae252-1588-4869-95e7-591eb594471f",
   "metadata": {
    "pycharm": {
     "name": "#%% md\n"
    }
   },
   "source": [
    "#### La oss ta en første kikk på dataene, for få oversikt over hva vi skal jobbe med\n",
    "\n",
    "`.T` viser oss DataFramen vår \"sidelengs\", altså med kolonnene som rader, og radene som kolonner. Nyttig triks for visning i notebook når du har mange kolonner!"
   ]
  },
  {
   "cell_type": "code",
   "execution_count": 2,
   "id": "937a7ecd-0bde-4deb-bede-8cbb452e0bb0",
   "metadata": {
    "pycharm": {
     "name": "#%%\n"
    },
    "tags": []
   },
   "outputs": [
    {
     "data": {
      "text/html": [
       "<div>\n",
       "<style scoped>\n",
       "    .dataframe tbody tr th:only-of-type {\n",
       "        vertical-align: middle;\n",
       "    }\n",
       "\n",
       "    .dataframe tbody tr th {\n",
       "        vertical-align: top;\n",
       "    }\n",
       "\n",
       "    .dataframe thead th {\n",
       "        text-align: right;\n",
       "    }\n",
       "</style>\n",
       "<table border=\"1\" class=\"dataframe\">\n",
       "  <thead>\n",
       "    <tr style=\"text-align: right;\">\n",
       "      <th></th>\n",
       "      <th>0</th>\n",
       "      <th>1</th>\n",
       "      <th>2</th>\n",
       "      <th>3</th>\n",
       "      <th>4</th>\n",
       "      <th>5</th>\n",
       "      <th>6</th>\n",
       "      <th>7</th>\n",
       "      <th>8</th>\n",
       "      <th>9</th>\n",
       "      <th>...</th>\n",
       "      <th>11555</th>\n",
       "      <th>11556</th>\n",
       "      <th>11557</th>\n",
       "      <th>11558</th>\n",
       "      <th>11559</th>\n",
       "      <th>11560</th>\n",
       "      <th>11561</th>\n",
       "      <th>11562</th>\n",
       "      <th>11563</th>\n",
       "      <th>11564</th>\n",
       "    </tr>\n",
       "  </thead>\n",
       "  <tbody>\n",
       "    <tr>\n",
       "      <th>ID</th>\n",
       "      <td>1068</td>\n",
       "      <td>2945</td>\n",
       "      <td>6883</td>\n",
       "      <td>6121</td>\n",
       "      <td>15197</td>\n",
       "      <td>7462</td>\n",
       "      <td>7104</td>\n",
       "      <td>7882</td>\n",
       "      <td>9432</td>\n",
       "      <td>8667</td>\n",
       "      <td>...</td>\n",
       "      <td>1052</td>\n",
       "      <td>3800</td>\n",
       "      <td>13073</td>\n",
       "      <td>9099</td>\n",
       "      <td>2656</td>\n",
       "      <td>4239</td>\n",
       "      <td>8900</td>\n",
       "      <td>11245</td>\n",
       "      <td>8374</td>\n",
       "      <td>2226</td>\n",
       "    </tr>\n",
       "    <tr>\n",
       "      <th>Month</th>\n",
       "      <td>Nov</td>\n",
       "      <td>Jun</td>\n",
       "      <td>Jan</td>\n",
       "      <td>Nov</td>\n",
       "      <td>Oct</td>\n",
       "      <td>Sep</td>\n",
       "      <td>Feb</td>\n",
       "      <td>Dec</td>\n",
       "      <td>Oct</td>\n",
       "      <td>Dec</td>\n",
       "      <td>...</td>\n",
       "      <td>Mar</td>\n",
       "      <td>May</td>\n",
       "      <td>Oct</td>\n",
       "      <td>May</td>\n",
       "      <td>Nov</td>\n",
       "      <td>Jan</td>\n",
       "      <td>Apr</td>\n",
       "      <td>Aug</td>\n",
       "      <td>May</td>\n",
       "      <td>Feb</td>\n",
       "    </tr>\n",
       "    <tr>\n",
       "      <th>WeekOfMonth</th>\n",
       "      <td>5</td>\n",
       "      <td>5</td>\n",
       "      <td>3</td>\n",
       "      <td>4</td>\n",
       "      <td>3</td>\n",
       "      <td>2</td>\n",
       "      <td>2</td>\n",
       "      <td>3</td>\n",
       "      <td>2</td>\n",
       "      <td>3</td>\n",
       "      <td>...</td>\n",
       "      <td>5</td>\n",
       "      <td>3</td>\n",
       "      <td>4</td>\n",
       "      <td>4</td>\n",
       "      <td>3</td>\n",
       "      <td>4</td>\n",
       "      <td>3</td>\n",
       "      <td>1</td>\n",
       "      <td>3</td>\n",
       "      <td>3</td>\n",
       "    </tr>\n",
       "    <tr>\n",
       "      <th>DayOfWeek</th>\n",
       "      <td>Monday</td>\n",
       "      <td>Thursday</td>\n",
       "      <td>Friday</td>\n",
       "      <td>Saturday</td>\n",
       "      <td>Saturday</td>\n",
       "      <td>Thursday</td>\n",
       "      <td>Wednesday</td>\n",
       "      <td>Thursday</td>\n",
       "      <td>Saturday</td>\n",
       "      <td>Saturday</td>\n",
       "      <td>...</td>\n",
       "      <td>Tuesday</td>\n",
       "      <td>Thursday</td>\n",
       "      <td>Monday</td>\n",
       "      <td>Tuesday</td>\n",
       "      <td>Saturday</td>\n",
       "      <td>Saturday</td>\n",
       "      <td>Monday</td>\n",
       "      <td>Sunday</td>\n",
       "      <td>Sunday</td>\n",
       "      <td>Monday</td>\n",
       "    </tr>\n",
       "    <tr>\n",
       "      <th>Make</th>\n",
       "      <td>Accura</td>\n",
       "      <td>Chevrolet</td>\n",
       "      <td>Accura</td>\n",
       "      <td>Mazda</td>\n",
       "      <td>Mazda</td>\n",
       "      <td>Toyota</td>\n",
       "      <td>Toyota</td>\n",
       "      <td>Mazda</td>\n",
       "      <td>Honda</td>\n",
       "      <td>Mazda</td>\n",
       "      <td>...</td>\n",
       "      <td>Chevrolet</td>\n",
       "      <td>Chevrolet</td>\n",
       "      <td>Mazda</td>\n",
       "      <td>Honda</td>\n",
       "      <td>Honda</td>\n",
       "      <td>Ford</td>\n",
       "      <td>Honda</td>\n",
       "      <td>Toyota</td>\n",
       "      <td>Toyota</td>\n",
       "      <td>Pontiac</td>\n",
       "    </tr>\n",
       "    <tr>\n",
       "      <th>AccidentArea</th>\n",
       "      <td>Urban</td>\n",
       "      <td>Urban</td>\n",
       "      <td>Urban</td>\n",
       "      <td>Urban</td>\n",
       "      <td>Rural</td>\n",
       "      <td>Urban</td>\n",
       "      <td>Urban</td>\n",
       "      <td>Urban</td>\n",
       "      <td>Urban</td>\n",
       "      <td>Urban</td>\n",
       "      <td>...</td>\n",
       "      <td>Urban</td>\n",
       "      <td>Urban</td>\n",
       "      <td>Rural</td>\n",
       "      <td>Urban</td>\n",
       "      <td>Urban</td>\n",
       "      <td>Rural</td>\n",
       "      <td>Urban</td>\n",
       "      <td>Rural</td>\n",
       "      <td>Urban</td>\n",
       "      <td>Urban</td>\n",
       "    </tr>\n",
       "    <tr>\n",
       "      <th>DayOfWeekClaimed</th>\n",
       "      <td>Thursday</td>\n",
       "      <td>Friday</td>\n",
       "      <td>Thursday</td>\n",
       "      <td>Monday</td>\n",
       "      <td>Monday</td>\n",
       "      <td>Tuesday</td>\n",
       "      <td>Tuesday</td>\n",
       "      <td>Thursday</td>\n",
       "      <td>Tuesday</td>\n",
       "      <td>Wednesday</td>\n",
       "      <td>...</td>\n",
       "      <td>Friday</td>\n",
       "      <td>Friday</td>\n",
       "      <td>Wednesday</td>\n",
       "      <td>Tuesday</td>\n",
       "      <td>Monday</td>\n",
       "      <td>Tuesday</td>\n",
       "      <td>Monday</td>\n",
       "      <td>Tuesday</td>\n",
       "      <td>Monday</td>\n",
       "      <td>Thursday</td>\n",
       "    </tr>\n",
       "    <tr>\n",
       "      <th>MonthClaimed</th>\n",
       "      <td>Dec</td>\n",
       "      <td>Jul</td>\n",
       "      <td>Feb</td>\n",
       "      <td>Nov</td>\n",
       "      <td>Oct</td>\n",
       "      <td>Sep</td>\n",
       "      <td>Feb</td>\n",
       "      <td>Dec</td>\n",
       "      <td>Oct</td>\n",
       "      <td>Dec</td>\n",
       "      <td>...</td>\n",
       "      <td>Apr</td>\n",
       "      <td>May</td>\n",
       "      <td>Oct</td>\n",
       "      <td>May</td>\n",
       "      <td>Nov</td>\n",
       "      <td>Jan</td>\n",
       "      <td>Apr</td>\n",
       "      <td>Aug</td>\n",
       "      <td>May</td>\n",
       "      <td>Mar</td>\n",
       "    </tr>\n",
       "    <tr>\n",
       "      <th>WeekOfMonthClaimed</th>\n",
       "      <td>1</td>\n",
       "      <td>5</td>\n",
       "      <td>3</td>\n",
       "      <td>5</td>\n",
       "      <td>3</td>\n",
       "      <td>2</td>\n",
       "      <td>3</td>\n",
       "      <td>3</td>\n",
       "      <td>2</td>\n",
       "      <td>4</td>\n",
       "      <td>...</td>\n",
       "      <td>1</td>\n",
       "      <td>3</td>\n",
       "      <td>4</td>\n",
       "      <td>4</td>\n",
       "      <td>4</td>\n",
       "      <td>5</td>\n",
       "      <td>3</td>\n",
       "      <td>2</td>\n",
       "      <td>3</td>\n",
       "      <td>1</td>\n",
       "    </tr>\n",
       "    <tr>\n",
       "      <th>Sex</th>\n",
       "      <td>Male</td>\n",
       "      <td>Male</td>\n",
       "      <td>Male</td>\n",
       "      <td>Male</td>\n",
       "      <td>Male</td>\n",
       "      <td>Male</td>\n",
       "      <td>Female</td>\n",
       "      <td>Female</td>\n",
       "      <td>Male</td>\n",
       "      <td>Male</td>\n",
       "      <td>...</td>\n",
       "      <td>Male</td>\n",
       "      <td>Male</td>\n",
       "      <td>Female</td>\n",
       "      <td>Male</td>\n",
       "      <td>Male</td>\n",
       "      <td>Male</td>\n",
       "      <td>Male</td>\n",
       "      <td>Male</td>\n",
       "      <td>Female</td>\n",
       "      <td>Female</td>\n",
       "    </tr>\n",
       "    <tr>\n",
       "      <th>MaritalStatus</th>\n",
       "      <td>Married</td>\n",
       "      <td>Single</td>\n",
       "      <td>Married</td>\n",
       "      <td>Married</td>\n",
       "      <td>Single</td>\n",
       "      <td>Married</td>\n",
       "      <td>Married</td>\n",
       "      <td>Single</td>\n",
       "      <td>Married</td>\n",
       "      <td>Single</td>\n",
       "      <td>...</td>\n",
       "      <td>Single</td>\n",
       "      <td>Single</td>\n",
       "      <td>Single</td>\n",
       "      <td>Married</td>\n",
       "      <td>Married</td>\n",
       "      <td>Married</td>\n",
       "      <td>Married</td>\n",
       "      <td>Married</td>\n",
       "      <td>Married</td>\n",
       "      <td>Married</td>\n",
       "    </tr>\n",
       "    <tr>\n",
       "      <th>Age</th>\n",
       "      <td>36</td>\n",
       "      <td>33</td>\n",
       "      <td>46</td>\n",
       "      <td>36</td>\n",
       "      <td>27</td>\n",
       "      <td>45</td>\n",
       "      <td>27</td>\n",
       "      <td>33</td>\n",
       "      <td>59</td>\n",
       "      <td>28</td>\n",
       "      <td>...</td>\n",
       "      <td>31</td>\n",
       "      <td>26</td>\n",
       "      <td>45</td>\n",
       "      <td>41</td>\n",
       "      <td>36</td>\n",
       "      <td>45</td>\n",
       "      <td>38</td>\n",
       "      <td>35</td>\n",
       "      <td>30</td>\n",
       "      <td>54</td>\n",
       "    </tr>\n",
       "    <tr>\n",
       "      <th>Fault</th>\n",
       "      <td>Policy Holder</td>\n",
       "      <td>Policy Holder</td>\n",
       "      <td>Policy Holder</td>\n",
       "      <td>Policy Holder</td>\n",
       "      <td>Policy Holder</td>\n",
       "      <td>Policy Holder</td>\n",
       "      <td>Third Party</td>\n",
       "      <td>Policy Holder</td>\n",
       "      <td>Policy Holder</td>\n",
       "      <td>Policy Holder</td>\n",
       "      <td>...</td>\n",
       "      <td>Policy Holder</td>\n",
       "      <td>Policy Holder</td>\n",
       "      <td>Policy Holder</td>\n",
       "      <td>Policy Holder</td>\n",
       "      <td>Third Party</td>\n",
       "      <td>Policy Holder</td>\n",
       "      <td>Policy Holder</td>\n",
       "      <td>Policy Holder</td>\n",
       "      <td>Third Party</td>\n",
       "      <td>Policy Holder</td>\n",
       "    </tr>\n",
       "    <tr>\n",
       "      <th>PolicyType</th>\n",
       "      <td>Sedan - Collision</td>\n",
       "      <td>Sedan - Collision</td>\n",
       "      <td>Sedan - Liability</td>\n",
       "      <td>Sedan - Liability</td>\n",
       "      <td>Sedan - Liability</td>\n",
       "      <td>Sedan - Collision</td>\n",
       "      <td>Sedan - All Perils</td>\n",
       "      <td>Sedan - Liability</td>\n",
       "      <td>Sport - Collision</td>\n",
       "      <td>Sedan - Liability</td>\n",
       "      <td>...</td>\n",
       "      <td>Sedan - All Perils</td>\n",
       "      <td>Sedan - Collision</td>\n",
       "      <td>Sedan - Collision</td>\n",
       "      <td>Sedan - Liability</td>\n",
       "      <td>Sedan - Liability</td>\n",
       "      <td>Sedan - Liability</td>\n",
       "      <td>Sedan - Liability</td>\n",
       "      <td>Sedan - All Perils</td>\n",
       "      <td>Sedan - Collision</td>\n",
       "      <td>Sedan - Collision</td>\n",
       "    </tr>\n",
       "    <tr>\n",
       "      <th>VehicleCategory</th>\n",
       "      <td>Sedan</td>\n",
       "      <td>Sedan</td>\n",
       "      <td>Sport</td>\n",
       "      <td>Sport</td>\n",
       "      <td>Sport</td>\n",
       "      <td>Sedan</td>\n",
       "      <td>Sedan</td>\n",
       "      <td>Sport</td>\n",
       "      <td>Sport</td>\n",
       "      <td>Sport</td>\n",
       "      <td>...</td>\n",
       "      <td>Sedan</td>\n",
       "      <td>Sedan</td>\n",
       "      <td>Sedan</td>\n",
       "      <td>Sport</td>\n",
       "      <td>Sport</td>\n",
       "      <td>Sport</td>\n",
       "      <td>Sport</td>\n",
       "      <td>Sedan</td>\n",
       "      <td>Sedan</td>\n",
       "      <td>Sedan</td>\n",
       "    </tr>\n",
       "    <tr>\n",
       "      <th>VehiclePrice</th>\n",
       "      <td>more than 69000</td>\n",
       "      <td>20000 to 29000</td>\n",
       "      <td>30000 to 39000</td>\n",
       "      <td>20000 to 29000</td>\n",
       "      <td>30000 to 39000</td>\n",
       "      <td>30000 to 39000</td>\n",
       "      <td>less than 20000</td>\n",
       "      <td>20000 to 29000</td>\n",
       "      <td>more than 69000</td>\n",
       "      <td>30000 to 39000</td>\n",
       "      <td>...</td>\n",
       "      <td>30000 to 39000</td>\n",
       "      <td>20000 to 29000</td>\n",
       "      <td>20000 to 29000</td>\n",
       "      <td>20000 to 29000</td>\n",
       "      <td>30000 to 39000</td>\n",
       "      <td>30000 to 39000</td>\n",
       "      <td>30000 to 39000</td>\n",
       "      <td>20000 to 29000</td>\n",
       "      <td>30000 to 39000</td>\n",
       "      <td>30000 to 39000</td>\n",
       "    </tr>\n",
       "    <tr>\n",
       "      <th>FraudFound_P</th>\n",
       "      <td>0</td>\n",
       "      <td>0</td>\n",
       "      <td>0</td>\n",
       "      <td>0</td>\n",
       "      <td>0</td>\n",
       "      <td>0</td>\n",
       "      <td>0</td>\n",
       "      <td>0</td>\n",
       "      <td>0</td>\n",
       "      <td>0</td>\n",
       "      <td>...</td>\n",
       "      <td>0</td>\n",
       "      <td>1</td>\n",
       "      <td>0</td>\n",
       "      <td>0</td>\n",
       "      <td>0</td>\n",
       "      <td>0</td>\n",
       "      <td>0</td>\n",
       "      <td>0</td>\n",
       "      <td>0</td>\n",
       "      <td>0</td>\n",
       "    </tr>\n",
       "    <tr>\n",
       "      <th>PolicyNumber</th>\n",
       "      <td>1069</td>\n",
       "      <td>2946</td>\n",
       "      <td>6884</td>\n",
       "      <td>6122</td>\n",
       "      <td>15198</td>\n",
       "      <td>7463</td>\n",
       "      <td>7105</td>\n",
       "      <td>7883</td>\n",
       "      <td>9433</td>\n",
       "      <td>8668</td>\n",
       "      <td>...</td>\n",
       "      <td>1053</td>\n",
       "      <td>3801</td>\n",
       "      <td>13074</td>\n",
       "      <td>9100</td>\n",
       "      <td>2657</td>\n",
       "      <td>4240</td>\n",
       "      <td>8901</td>\n",
       "      <td>11246</td>\n",
       "      <td>8375</td>\n",
       "      <td>2227</td>\n",
       "    </tr>\n",
       "    <tr>\n",
       "      <th>RepNumber</th>\n",
       "      <td>11</td>\n",
       "      <td>8</td>\n",
       "      <td>12</td>\n",
       "      <td>8</td>\n",
       "      <td>12</td>\n",
       "      <td>15</td>\n",
       "      <td>3</td>\n",
       "      <td>1</td>\n",
       "      <td>2</td>\n",
       "      <td>6</td>\n",
       "      <td>...</td>\n",
       "      <td>14</td>\n",
       "      <td>1</td>\n",
       "      <td>10</td>\n",
       "      <td>5</td>\n",
       "      <td>11</td>\n",
       "      <td>14</td>\n",
       "      <td>5</td>\n",
       "      <td>14</td>\n",
       "      <td>9</td>\n",
       "      <td>2</td>\n",
       "    </tr>\n",
       "    <tr>\n",
       "      <th>Deductible</th>\n",
       "      <td>400</td>\n",
       "      <td>400</td>\n",
       "      <td>400</td>\n",
       "      <td>400</td>\n",
       "      <td>400</td>\n",
       "      <td>400</td>\n",
       "      <td>400</td>\n",
       "      <td>400</td>\n",
       "      <td>400</td>\n",
       "      <td>400</td>\n",
       "      <td>...</td>\n",
       "      <td>400</td>\n",
       "      <td>400</td>\n",
       "      <td>400</td>\n",
       "      <td>400</td>\n",
       "      <td>400</td>\n",
       "      <td>400</td>\n",
       "      <td>400</td>\n",
       "      <td>400</td>\n",
       "      <td>400</td>\n",
       "      <td>400</td>\n",
       "    </tr>\n",
       "    <tr>\n",
       "      <th>DriverRating</th>\n",
       "      <td>2</td>\n",
       "      <td>3</td>\n",
       "      <td>1</td>\n",
       "      <td>1</td>\n",
       "      <td>2</td>\n",
       "      <td>4</td>\n",
       "      <td>1</td>\n",
       "      <td>4</td>\n",
       "      <td>2</td>\n",
       "      <td>3</td>\n",
       "      <td>...</td>\n",
       "      <td>3</td>\n",
       "      <td>1</td>\n",
       "      <td>4</td>\n",
       "      <td>4</td>\n",
       "      <td>2</td>\n",
       "      <td>2</td>\n",
       "      <td>1</td>\n",
       "      <td>3</td>\n",
       "      <td>2</td>\n",
       "      <td>4</td>\n",
       "    </tr>\n",
       "    <tr>\n",
       "      <th>Days_Policy_Accident</th>\n",
       "      <td>more than 30</td>\n",
       "      <td>more than 30</td>\n",
       "      <td>more than 30</td>\n",
       "      <td>more than 30</td>\n",
       "      <td>more than 30</td>\n",
       "      <td>more than 30</td>\n",
       "      <td>more than 30</td>\n",
       "      <td>more than 30</td>\n",
       "      <td>more than 30</td>\n",
       "      <td>more than 30</td>\n",
       "      <td>...</td>\n",
       "      <td>more than 30</td>\n",
       "      <td>more than 30</td>\n",
       "      <td>more than 30</td>\n",
       "      <td>more than 30</td>\n",
       "      <td>more than 30</td>\n",
       "      <td>more than 30</td>\n",
       "      <td>more than 30</td>\n",
       "      <td>more than 30</td>\n",
       "      <td>more than 30</td>\n",
       "      <td>more than 30</td>\n",
       "    </tr>\n",
       "    <tr>\n",
       "      <th>Days_Policy_Claim</th>\n",
       "      <td>more than 30</td>\n",
       "      <td>more than 30</td>\n",
       "      <td>more than 30</td>\n",
       "      <td>more than 30</td>\n",
       "      <td>more than 30</td>\n",
       "      <td>more than 30</td>\n",
       "      <td>more than 30</td>\n",
       "      <td>more than 30</td>\n",
       "      <td>more than 30</td>\n",
       "      <td>more than 30</td>\n",
       "      <td>...</td>\n",
       "      <td>more than 30</td>\n",
       "      <td>more than 30</td>\n",
       "      <td>more than 30</td>\n",
       "      <td>more than 30</td>\n",
       "      <td>more than 30</td>\n",
       "      <td>more than 30</td>\n",
       "      <td>more than 30</td>\n",
       "      <td>more than 30</td>\n",
       "      <td>more than 30</td>\n",
       "      <td>more than 30</td>\n",
       "    </tr>\n",
       "    <tr>\n",
       "      <th>PastNumberOfClaims</th>\n",
       "      <td>2 to 4</td>\n",
       "      <td>none</td>\n",
       "      <td>2 to 4</td>\n",
       "      <td>2 to 4</td>\n",
       "      <td>none</td>\n",
       "      <td>2 to 4</td>\n",
       "      <td>none</td>\n",
       "      <td>more than 4</td>\n",
       "      <td>none</td>\n",
       "      <td>more than 4</td>\n",
       "      <td>...</td>\n",
       "      <td>2 to 4</td>\n",
       "      <td>2 to 4</td>\n",
       "      <td>2 to 4</td>\n",
       "      <td>2 to 4</td>\n",
       "      <td>more than 4</td>\n",
       "      <td>none</td>\n",
       "      <td>2 to 4</td>\n",
       "      <td>none</td>\n",
       "      <td>1</td>\n",
       "      <td>2 to 4</td>\n",
       "    </tr>\n",
       "    <tr>\n",
       "      <th>AgeOfVehicle</th>\n",
       "      <td>7 years</td>\n",
       "      <td>6 years</td>\n",
       "      <td>7 years</td>\n",
       "      <td>7 years</td>\n",
       "      <td>6 years</td>\n",
       "      <td>7 years</td>\n",
       "      <td>6 years</td>\n",
       "      <td>6 years</td>\n",
       "      <td>7 years</td>\n",
       "      <td>5 years</td>\n",
       "      <td>...</td>\n",
       "      <td>6 years</td>\n",
       "      <td>6 years</td>\n",
       "      <td>7 years</td>\n",
       "      <td>7 years</td>\n",
       "      <td>7 years</td>\n",
       "      <td>more than 7</td>\n",
       "      <td>7 years</td>\n",
       "      <td>5 years</td>\n",
       "      <td>6 years</td>\n",
       "      <td>more than 7</td>\n",
       "    </tr>\n",
       "    <tr>\n",
       "      <th>AgeOfPolicyHolder</th>\n",
       "      <td>36 to 40</td>\n",
       "      <td>31 to 35</td>\n",
       "      <td>41 to 50</td>\n",
       "      <td>36 to 40</td>\n",
       "      <td>31 to 35</td>\n",
       "      <td>36 to 40</td>\n",
       "      <td>31 to 35</td>\n",
       "      <td>31 to 35</td>\n",
       "      <td>51 to 65</td>\n",
       "      <td>31 to 35</td>\n",
       "      <td>...</td>\n",
       "      <td>31 to 35</td>\n",
       "      <td>31 to 35</td>\n",
       "      <td>36 to 40</td>\n",
       "      <td>36 to 40</td>\n",
       "      <td>36 to 40</td>\n",
       "      <td>36 to 40</td>\n",
       "      <td>36 to 40</td>\n",
       "      <td>31 to 35</td>\n",
       "      <td>31 to 35</td>\n",
       "      <td>41 to 50</td>\n",
       "    </tr>\n",
       "    <tr>\n",
       "      <th>PoliceReportFiled</th>\n",
       "      <td>No</td>\n",
       "      <td>No</td>\n",
       "      <td>No</td>\n",
       "      <td>No</td>\n",
       "      <td>No</td>\n",
       "      <td>No</td>\n",
       "      <td>No</td>\n",
       "      <td>No</td>\n",
       "      <td>No</td>\n",
       "      <td>No</td>\n",
       "      <td>...</td>\n",
       "      <td>No</td>\n",
       "      <td>No</td>\n",
       "      <td>No</td>\n",
       "      <td>No</td>\n",
       "      <td>No</td>\n",
       "      <td>No</td>\n",
       "      <td>No</td>\n",
       "      <td>No</td>\n",
       "      <td>No</td>\n",
       "      <td>No</td>\n",
       "    </tr>\n",
       "    <tr>\n",
       "      <th>WitnessPresent</th>\n",
       "      <td>No</td>\n",
       "      <td>No</td>\n",
       "      <td>No</td>\n",
       "      <td>No</td>\n",
       "      <td>No</td>\n",
       "      <td>No</td>\n",
       "      <td>No</td>\n",
       "      <td>No</td>\n",
       "      <td>No</td>\n",
       "      <td>No</td>\n",
       "      <td>...</td>\n",
       "      <td>No</td>\n",
       "      <td>No</td>\n",
       "      <td>No</td>\n",
       "      <td>No</td>\n",
       "      <td>No</td>\n",
       "      <td>No</td>\n",
       "      <td>No</td>\n",
       "      <td>No</td>\n",
       "      <td>No</td>\n",
       "      <td>No</td>\n",
       "    </tr>\n",
       "    <tr>\n",
       "      <th>AgentType</th>\n",
       "      <td>External</td>\n",
       "      <td>External</td>\n",
       "      <td>External</td>\n",
       "      <td>External</td>\n",
       "      <td>External</td>\n",
       "      <td>Internal</td>\n",
       "      <td>External</td>\n",
       "      <td>External</td>\n",
       "      <td>External</td>\n",
       "      <td>External</td>\n",
       "      <td>...</td>\n",
       "      <td>External</td>\n",
       "      <td>External</td>\n",
       "      <td>External</td>\n",
       "      <td>External</td>\n",
       "      <td>External</td>\n",
       "      <td>External</td>\n",
       "      <td>External</td>\n",
       "      <td>External</td>\n",
       "      <td>External</td>\n",
       "      <td>External</td>\n",
       "    </tr>\n",
       "    <tr>\n",
       "      <th>NumberOfSuppliments</th>\n",
       "      <td>more than 5</td>\n",
       "      <td>none</td>\n",
       "      <td>none</td>\n",
       "      <td>none</td>\n",
       "      <td>none</td>\n",
       "      <td>none</td>\n",
       "      <td>none</td>\n",
       "      <td>more than 5</td>\n",
       "      <td>none</td>\n",
       "      <td>1 to 2</td>\n",
       "      <td>...</td>\n",
       "      <td>more than 5</td>\n",
       "      <td>none</td>\n",
       "      <td>3 to 5</td>\n",
       "      <td>3 to 5</td>\n",
       "      <td>none</td>\n",
       "      <td>more than 5</td>\n",
       "      <td>more than 5</td>\n",
       "      <td>none</td>\n",
       "      <td>1 to 2</td>\n",
       "      <td>more than 5</td>\n",
       "    </tr>\n",
       "    <tr>\n",
       "      <th>AddressChange_Claim</th>\n",
       "      <td>no change</td>\n",
       "      <td>no change</td>\n",
       "      <td>no change</td>\n",
       "      <td>no change</td>\n",
       "      <td>1 year</td>\n",
       "      <td>1 year</td>\n",
       "      <td>no change</td>\n",
       "      <td>no change</td>\n",
       "      <td>no change</td>\n",
       "      <td>no change</td>\n",
       "      <td>...</td>\n",
       "      <td>no change</td>\n",
       "      <td>no change</td>\n",
       "      <td>no change</td>\n",
       "      <td>no change</td>\n",
       "      <td>no change</td>\n",
       "      <td>no change</td>\n",
       "      <td>no change</td>\n",
       "      <td>no change</td>\n",
       "      <td>no change</td>\n",
       "      <td>4 to 8 years</td>\n",
       "    </tr>\n",
       "    <tr>\n",
       "      <th>NumberOfCars</th>\n",
       "      <td>1 vehicle</td>\n",
       "      <td>1 vehicle</td>\n",
       "      <td>1 vehicle</td>\n",
       "      <td>1 vehicle</td>\n",
       "      <td>1 vehicle</td>\n",
       "      <td>3 to 4</td>\n",
       "      <td>1 vehicle</td>\n",
       "      <td>1 vehicle</td>\n",
       "      <td>1 vehicle</td>\n",
       "      <td>1 vehicle</td>\n",
       "      <td>...</td>\n",
       "      <td>1 vehicle</td>\n",
       "      <td>1 vehicle</td>\n",
       "      <td>1 vehicle</td>\n",
       "      <td>1 vehicle</td>\n",
       "      <td>1 vehicle</td>\n",
       "      <td>1 vehicle</td>\n",
       "      <td>1 vehicle</td>\n",
       "      <td>1 vehicle</td>\n",
       "      <td>1 vehicle</td>\n",
       "      <td>2 vehicles</td>\n",
       "    </tr>\n",
       "    <tr>\n",
       "      <th>Year</th>\n",
       "      <td>1994</td>\n",
       "      <td>1994</td>\n",
       "      <td>1995</td>\n",
       "      <td>1994</td>\n",
       "      <td>1996</td>\n",
       "      <td>1995</td>\n",
       "      <td>1995</td>\n",
       "      <td>1995</td>\n",
       "      <td>1995</td>\n",
       "      <td>1995</td>\n",
       "      <td>...</td>\n",
       "      <td>1994</td>\n",
       "      <td>1994</td>\n",
       "      <td>1996</td>\n",
       "      <td>1995</td>\n",
       "      <td>1994</td>\n",
       "      <td>1994</td>\n",
       "      <td>1995</td>\n",
       "      <td>1995</td>\n",
       "      <td>1995</td>\n",
       "      <td>1994</td>\n",
       "    </tr>\n",
       "    <tr>\n",
       "      <th>BasePolicy</th>\n",
       "      <td>Collision</td>\n",
       "      <td>Collision</td>\n",
       "      <td>Liability</td>\n",
       "      <td>Liability</td>\n",
       "      <td>Liability</td>\n",
       "      <td>Collision</td>\n",
       "      <td>All Perils</td>\n",
       "      <td>Liability</td>\n",
       "      <td>Collision</td>\n",
       "      <td>Liability</td>\n",
       "      <td>...</td>\n",
       "      <td>All Perils</td>\n",
       "      <td>Collision</td>\n",
       "      <td>Collision</td>\n",
       "      <td>Liability</td>\n",
       "      <td>Liability</td>\n",
       "      <td>Liability</td>\n",
       "      <td>Liability</td>\n",
       "      <td>All Perils</td>\n",
       "      <td>Collision</td>\n",
       "      <td>Collision</td>\n",
       "    </tr>\n",
       "  </tbody>\n",
       "</table>\n",
       "<p>34 rows × 11565 columns</p>\n",
       "</div>"
      ],
      "text/plain": [
       "                                  0                  1                  2      \\\n",
       "ID                                 1068               2945               6883   \n",
       "Month                               Nov                Jun                Jan   \n",
       "WeekOfMonth                           5                  5                  3   \n",
       "DayOfWeek                        Monday           Thursday             Friday   \n",
       "Make                             Accura          Chevrolet             Accura   \n",
       "AccidentArea                      Urban              Urban              Urban   \n",
       "DayOfWeekClaimed               Thursday             Friday           Thursday   \n",
       "MonthClaimed                        Dec                Jul                Feb   \n",
       "WeekOfMonthClaimed                    1                  5                  3   \n",
       "Sex                                Male               Male               Male   \n",
       "MaritalStatus                   Married             Single            Married   \n",
       "Age                                  36                 33                 46   \n",
       "Fault                     Policy Holder      Policy Holder      Policy Holder   \n",
       "PolicyType            Sedan - Collision  Sedan - Collision  Sedan - Liability   \n",
       "VehicleCategory                   Sedan              Sedan              Sport   \n",
       "VehiclePrice            more than 69000     20000 to 29000     30000 to 39000   \n",
       "FraudFound_P                          0                  0                  0   \n",
       "PolicyNumber                       1069               2946               6884   \n",
       "RepNumber                            11                  8                 12   \n",
       "Deductible                          400                400                400   \n",
       "DriverRating                          2                  3                  1   \n",
       "Days_Policy_Accident       more than 30       more than 30       more than 30   \n",
       "Days_Policy_Claim          more than 30       more than 30       more than 30   \n",
       "PastNumberOfClaims               2 to 4               none             2 to 4   \n",
       "AgeOfVehicle                    7 years            6 years            7 years   \n",
       "AgeOfPolicyHolder              36 to 40           31 to 35           41 to 50   \n",
       "PoliceReportFiled                    No                 No                 No   \n",
       "WitnessPresent                       No                 No                 No   \n",
       "AgentType                      External           External           External   \n",
       "NumberOfSuppliments         more than 5               none               none   \n",
       "AddressChange_Claim           no change          no change          no change   \n",
       "NumberOfCars                  1 vehicle          1 vehicle          1 vehicle   \n",
       "Year                               1994               1994               1995   \n",
       "BasePolicy                    Collision          Collision          Liability   \n",
       "\n",
       "                                  3                  4                  5      \\\n",
       "ID                                 6121              15197               7462   \n",
       "Month                               Nov                Oct                Sep   \n",
       "WeekOfMonth                           4                  3                  2   \n",
       "DayOfWeek                      Saturday           Saturday           Thursday   \n",
       "Make                              Mazda              Mazda             Toyota   \n",
       "AccidentArea                      Urban              Rural              Urban   \n",
       "DayOfWeekClaimed                 Monday             Monday            Tuesday   \n",
       "MonthClaimed                        Nov                Oct                Sep   \n",
       "WeekOfMonthClaimed                    5                  3                  2   \n",
       "Sex                                Male               Male               Male   \n",
       "MaritalStatus                   Married             Single            Married   \n",
       "Age                                  36                 27                 45   \n",
       "Fault                     Policy Holder      Policy Holder      Policy Holder   \n",
       "PolicyType            Sedan - Liability  Sedan - Liability  Sedan - Collision   \n",
       "VehicleCategory                   Sport              Sport              Sedan   \n",
       "VehiclePrice             20000 to 29000     30000 to 39000     30000 to 39000   \n",
       "FraudFound_P                          0                  0                  0   \n",
       "PolicyNumber                       6122              15198               7463   \n",
       "RepNumber                             8                 12                 15   \n",
       "Deductible                          400                400                400   \n",
       "DriverRating                          1                  2                  4   \n",
       "Days_Policy_Accident       more than 30       more than 30       more than 30   \n",
       "Days_Policy_Claim          more than 30       more than 30       more than 30   \n",
       "PastNumberOfClaims               2 to 4               none             2 to 4   \n",
       "AgeOfVehicle                    7 years            6 years            7 years   \n",
       "AgeOfPolicyHolder              36 to 40           31 to 35           36 to 40   \n",
       "PoliceReportFiled                    No                 No                 No   \n",
       "WitnessPresent                       No                 No                 No   \n",
       "AgentType                      External           External           Internal   \n",
       "NumberOfSuppliments                none               none               none   \n",
       "AddressChange_Claim           no change             1 year             1 year   \n",
       "NumberOfCars                  1 vehicle          1 vehicle             3 to 4   \n",
       "Year                               1994               1996               1995   \n",
       "BasePolicy                    Liability          Liability          Collision   \n",
       "\n",
       "                                   6                  7      \\\n",
       "ID                                  7104               7882   \n",
       "Month                                Feb                Dec   \n",
       "WeekOfMonth                            2                  3   \n",
       "DayOfWeek                      Wednesday           Thursday   \n",
       "Make                              Toyota              Mazda   \n",
       "AccidentArea                       Urban              Urban   \n",
       "DayOfWeekClaimed                 Tuesday           Thursday   \n",
       "MonthClaimed                         Feb                Dec   \n",
       "WeekOfMonthClaimed                     3                  3   \n",
       "Sex                               Female             Female   \n",
       "MaritalStatus                    Married             Single   \n",
       "Age                                   27                 33   \n",
       "Fault                        Third Party      Policy Holder   \n",
       "PolicyType            Sedan - All Perils  Sedan - Liability   \n",
       "VehicleCategory                    Sedan              Sport   \n",
       "VehiclePrice             less than 20000     20000 to 29000   \n",
       "FraudFound_P                           0                  0   \n",
       "PolicyNumber                        7105               7883   \n",
       "RepNumber                              3                  1   \n",
       "Deductible                           400                400   \n",
       "DriverRating                           1                  4   \n",
       "Days_Policy_Accident        more than 30       more than 30   \n",
       "Days_Policy_Claim           more than 30       more than 30   \n",
       "PastNumberOfClaims                  none        more than 4   \n",
       "AgeOfVehicle                     6 years            6 years   \n",
       "AgeOfPolicyHolder               31 to 35           31 to 35   \n",
       "PoliceReportFiled                     No                 No   \n",
       "WitnessPresent                        No                 No   \n",
       "AgentType                       External           External   \n",
       "NumberOfSuppliments                 none        more than 5   \n",
       "AddressChange_Claim            no change          no change   \n",
       "NumberOfCars                   1 vehicle          1 vehicle   \n",
       "Year                                1995               1995   \n",
       "BasePolicy                    All Perils          Liability   \n",
       "\n",
       "                                  8                  9      ...  \\\n",
       "ID                                 9432               8667  ...   \n",
       "Month                               Oct                Dec  ...   \n",
       "WeekOfMonth                           2                  3  ...   \n",
       "DayOfWeek                      Saturday           Saturday  ...   \n",
       "Make                              Honda              Mazda  ...   \n",
       "AccidentArea                      Urban              Urban  ...   \n",
       "DayOfWeekClaimed                Tuesday          Wednesday  ...   \n",
       "MonthClaimed                        Oct                Dec  ...   \n",
       "WeekOfMonthClaimed                    2                  4  ...   \n",
       "Sex                                Male               Male  ...   \n",
       "MaritalStatus                   Married             Single  ...   \n",
       "Age                                  59                 28  ...   \n",
       "Fault                     Policy Holder      Policy Holder  ...   \n",
       "PolicyType            Sport - Collision  Sedan - Liability  ...   \n",
       "VehicleCategory                   Sport              Sport  ...   \n",
       "VehiclePrice            more than 69000     30000 to 39000  ...   \n",
       "FraudFound_P                          0                  0  ...   \n",
       "PolicyNumber                       9433               8668  ...   \n",
       "RepNumber                             2                  6  ...   \n",
       "Deductible                          400                400  ...   \n",
       "DriverRating                          2                  3  ...   \n",
       "Days_Policy_Accident       more than 30       more than 30  ...   \n",
       "Days_Policy_Claim          more than 30       more than 30  ...   \n",
       "PastNumberOfClaims                 none        more than 4  ...   \n",
       "AgeOfVehicle                    7 years            5 years  ...   \n",
       "AgeOfPolicyHolder              51 to 65           31 to 35  ...   \n",
       "PoliceReportFiled                    No                 No  ...   \n",
       "WitnessPresent                       No                 No  ...   \n",
       "AgentType                      External           External  ...   \n",
       "NumberOfSuppliments                none             1 to 2  ...   \n",
       "AddressChange_Claim           no change          no change  ...   \n",
       "NumberOfCars                  1 vehicle          1 vehicle  ...   \n",
       "Year                               1995               1995  ...   \n",
       "BasePolicy                    Collision          Liability  ...   \n",
       "\n",
       "                                   11555              11556  \\\n",
       "ID                                  1052               3800   \n",
       "Month                                Mar                May   \n",
       "WeekOfMonth                            5                  3   \n",
       "DayOfWeek                        Tuesday           Thursday   \n",
       "Make                           Chevrolet          Chevrolet   \n",
       "AccidentArea                       Urban              Urban   \n",
       "DayOfWeekClaimed                  Friday             Friday   \n",
       "MonthClaimed                         Apr                May   \n",
       "WeekOfMonthClaimed                     1                  3   \n",
       "Sex                                 Male               Male   \n",
       "MaritalStatus                     Single             Single   \n",
       "Age                                   31                 26   \n",
       "Fault                      Policy Holder      Policy Holder   \n",
       "PolicyType            Sedan - All Perils  Sedan - Collision   \n",
       "VehicleCategory                    Sedan              Sedan   \n",
       "VehiclePrice              30000 to 39000     20000 to 29000   \n",
       "FraudFound_P                           0                  1   \n",
       "PolicyNumber                        1053               3801   \n",
       "RepNumber                             14                  1   \n",
       "Deductible                           400                400   \n",
       "DriverRating                           3                  1   \n",
       "Days_Policy_Accident        more than 30       more than 30   \n",
       "Days_Policy_Claim           more than 30       more than 30   \n",
       "PastNumberOfClaims                2 to 4             2 to 4   \n",
       "AgeOfVehicle                     6 years            6 years   \n",
       "AgeOfPolicyHolder               31 to 35           31 to 35   \n",
       "PoliceReportFiled                     No                 No   \n",
       "WitnessPresent                        No                 No   \n",
       "AgentType                       External           External   \n",
       "NumberOfSuppliments          more than 5               none   \n",
       "AddressChange_Claim            no change          no change   \n",
       "NumberOfCars                   1 vehicle          1 vehicle   \n",
       "Year                                1994               1994   \n",
       "BasePolicy                    All Perils          Collision   \n",
       "\n",
       "                                  11557              11558              11559  \\\n",
       "ID                                13073               9099               2656   \n",
       "Month                               Oct                May                Nov   \n",
       "WeekOfMonth                           4                  4                  3   \n",
       "DayOfWeek                        Monday            Tuesday           Saturday   \n",
       "Make                              Mazda              Honda              Honda   \n",
       "AccidentArea                      Rural              Urban              Urban   \n",
       "DayOfWeekClaimed              Wednesday            Tuesday             Monday   \n",
       "MonthClaimed                        Oct                May                Nov   \n",
       "WeekOfMonthClaimed                    4                  4                  4   \n",
       "Sex                              Female               Male               Male   \n",
       "MaritalStatus                    Single            Married            Married   \n",
       "Age                                  45                 41                 36   \n",
       "Fault                     Policy Holder      Policy Holder        Third Party   \n",
       "PolicyType            Sedan - Collision  Sedan - Liability  Sedan - Liability   \n",
       "VehicleCategory                   Sedan              Sport              Sport   \n",
       "VehiclePrice             20000 to 29000     20000 to 29000     30000 to 39000   \n",
       "FraudFound_P                          0                  0                  0   \n",
       "PolicyNumber                      13074               9100               2657   \n",
       "RepNumber                            10                  5                 11   \n",
       "Deductible                          400                400                400   \n",
       "DriverRating                          4                  4                  2   \n",
       "Days_Policy_Accident       more than 30       more than 30       more than 30   \n",
       "Days_Policy_Claim          more than 30       more than 30       more than 30   \n",
       "PastNumberOfClaims               2 to 4             2 to 4        more than 4   \n",
       "AgeOfVehicle                    7 years            7 years            7 years   \n",
       "AgeOfPolicyHolder              36 to 40           36 to 40           36 to 40   \n",
       "PoliceReportFiled                    No                 No                 No   \n",
       "WitnessPresent                       No                 No                 No   \n",
       "AgentType                      External           External           External   \n",
       "NumberOfSuppliments              3 to 5             3 to 5               none   \n",
       "AddressChange_Claim           no change          no change          no change   \n",
       "NumberOfCars                  1 vehicle          1 vehicle          1 vehicle   \n",
       "Year                               1996               1995               1994   \n",
       "BasePolicy                    Collision          Liability          Liability   \n",
       "\n",
       "                                  11560              11561  \\\n",
       "ID                                 4239               8900   \n",
       "Month                               Jan                Apr   \n",
       "WeekOfMonth                           4                  3   \n",
       "DayOfWeek                      Saturday             Monday   \n",
       "Make                               Ford              Honda   \n",
       "AccidentArea                      Rural              Urban   \n",
       "DayOfWeekClaimed                Tuesday             Monday   \n",
       "MonthClaimed                        Jan                Apr   \n",
       "WeekOfMonthClaimed                    5                  3   \n",
       "Sex                                Male               Male   \n",
       "MaritalStatus                   Married            Married   \n",
       "Age                                  45                 38   \n",
       "Fault                     Policy Holder      Policy Holder   \n",
       "PolicyType            Sedan - Liability  Sedan - Liability   \n",
       "VehicleCategory                   Sport              Sport   \n",
       "VehiclePrice             30000 to 39000     30000 to 39000   \n",
       "FraudFound_P                          0                  0   \n",
       "PolicyNumber                       4240               8901   \n",
       "RepNumber                            14                  5   \n",
       "Deductible                          400                400   \n",
       "DriverRating                          2                  1   \n",
       "Days_Policy_Accident       more than 30       more than 30   \n",
       "Days_Policy_Claim          more than 30       more than 30   \n",
       "PastNumberOfClaims                 none             2 to 4   \n",
       "AgeOfVehicle                more than 7            7 years   \n",
       "AgeOfPolicyHolder              36 to 40           36 to 40   \n",
       "PoliceReportFiled                    No                 No   \n",
       "WitnessPresent                       No                 No   \n",
       "AgentType                      External           External   \n",
       "NumberOfSuppliments         more than 5        more than 5   \n",
       "AddressChange_Claim           no change          no change   \n",
       "NumberOfCars                  1 vehicle          1 vehicle   \n",
       "Year                               1994               1995   \n",
       "BasePolicy                    Liability          Liability   \n",
       "\n",
       "                                   11562              11563              11564  \n",
       "ID                                 11245               8374               2226  \n",
       "Month                                Aug                May                Feb  \n",
       "WeekOfMonth                            1                  3                  3  \n",
       "DayOfWeek                         Sunday             Sunday             Monday  \n",
       "Make                              Toyota             Toyota            Pontiac  \n",
       "AccidentArea                       Rural              Urban              Urban  \n",
       "DayOfWeekClaimed                 Tuesday             Monday           Thursday  \n",
       "MonthClaimed                         Aug                May                Mar  \n",
       "WeekOfMonthClaimed                     2                  3                  1  \n",
       "Sex                                 Male             Female             Female  \n",
       "MaritalStatus                    Married            Married            Married  \n",
       "Age                                   35                 30                 54  \n",
       "Fault                      Policy Holder        Third Party      Policy Holder  \n",
       "PolicyType            Sedan - All Perils  Sedan - Collision  Sedan - Collision  \n",
       "VehicleCategory                    Sedan              Sedan              Sedan  \n",
       "VehiclePrice              20000 to 29000     30000 to 39000     30000 to 39000  \n",
       "FraudFound_P                           0                  0                  0  \n",
       "PolicyNumber                       11246               8375               2227  \n",
       "RepNumber                             14                  9                  2  \n",
       "Deductible                           400                400                400  \n",
       "DriverRating                           3                  2                  4  \n",
       "Days_Policy_Accident        more than 30       more than 30       more than 30  \n",
       "Days_Policy_Claim           more than 30       more than 30       more than 30  \n",
       "PastNumberOfClaims                  none                  1             2 to 4  \n",
       "AgeOfVehicle                     5 years            6 years        more than 7  \n",
       "AgeOfPolicyHolder               31 to 35           31 to 35           41 to 50  \n",
       "PoliceReportFiled                     No                 No                 No  \n",
       "WitnessPresent                        No                 No                 No  \n",
       "AgentType                       External           External           External  \n",
       "NumberOfSuppliments                 none             1 to 2        more than 5  \n",
       "AddressChange_Claim            no change          no change       4 to 8 years  \n",
       "NumberOfCars                   1 vehicle          1 vehicle         2 vehicles  \n",
       "Year                                1995               1995               1994  \n",
       "BasePolicy                    All Perils          Collision          Collision  \n",
       "\n",
       "[34 rows x 11565 columns]"
      ]
     },
     "execution_count": 2,
     "metadata": {},
     "output_type": "execute_result"
    }
   ],
   "source": [
    "df.T"
   ]
  },
  {
   "cell_type": "markdown",
   "id": "cb7a8237-6377-419e-8bd1-8b9b6f9394a0",
   "metadata": {
    "pycharm": {
     "name": "#%% md\n"
    }
   },
   "source": [
    "Her kan vi se at det er et stort overtall av menn i kategorien kjønn eller \"Sex\" "
   ]
  },
  {
   "cell_type": "code",
   "execution_count": 6,
   "id": "c31163f5-4743-4682-9c98-8ca6ba84c4cb",
   "metadata": {
    "pycharm": {
     "name": "#%%\n"
    },
    "tags": []
   },
   "outputs": [
    {
     "data": {
      "text/plain": [
       "Male      9767\n",
       "Female    1798\n",
       "Name: Sex, dtype: int64"
      ]
     },
     "execution_count": 6,
     "metadata": {},
     "output_type": "execute_result"
    }
   ],
   "source": [
    "df[\"Sex\"].value_counts()"
   ]
  },
  {
   "cell_type": "markdown",
   "id": "4826b5f5-7558-4358-ab2e-657b546804b1",
   "metadata": {
    "pycharm": {
     "name": "#%% md\n"
    }
   },
   "source": [
    "#### Prosentvis fordeling av fasit"
   ]
  },
  {
   "cell_type": "code",
   "execution_count": 5,
   "id": "bcfe5370-8563-49c3-941d-e12e9e926062",
   "metadata": {
    "pycharm": {
     "name": "#%%\n"
    },
    "tags": []
   },
   "outputs": [
    {
     "name": "stdout",
     "output_type": "stream",
     "text": [
      "Datasettet består av 34 forklaringsvariabler og 11565 observasjoner.\n",
      "94% av observasjonene er ikke markert som svindel\n",
      "6% av observasjonene er markert som svindel\n"
     ]
    }
   ],
   "source": [
    "total_fraud=(df.FraudFound_P.value_counts()[1]+df.FraudFound_P.value_counts()[0])\n",
    "not_fraud=df.FraudFound_P.value_counts()[0]\n",
    "fraud=df.FraudFound_P.value_counts()[1]\n",
    "prct_not_fraud=not_fraud/total_fraud*100\n",
    "prct_fraud=fraud/total_fraud*100\n",
    "print(f'Datasettet består av {df.shape[1]} forklaringsvariabler og {len(df)} observasjoner.')\n",
    "print(f\"{round(prct_not_fraud)}% av observasjonene er ikke markert som svindel\")\n",
    "print(f\"{round(prct_fraud)}% av observasjonene er markert som svindel\")"
   ]
  },
  {
   "cell_type": "markdown",
   "id": "ccfb1f92-73ce-49ef-8eb4-ad1499f9b5ae",
   "metadata": {
    "pycharm": {
     "name": "#%% md\n"
    }
   },
   "source": [
    "Dette betyr at vi har en stor ubalanse i fasiten vår som forteller oss om kunden har begått svindel eller ikke"
   ]
  },
  {
   "cell_type": "markdown",
   "id": "aea06a70",
   "metadata": {
    "pycharm": {
     "name": "#%% md\n"
    },
    "tags": []
   },
   "source": [
    "#### Lister alle forklaringsvariabler med korresponderende datatyper\n",
    "\n",
    "\"object\" kan fort inneholde et strengnavn, mens \"int64\" bare er heltall."
   ]
  },
  {
   "cell_type": "code",
   "execution_count": 5,
   "id": "9b7e3169",
   "metadata": {
    "collapsed": false,
    "jupyter": {
     "outputs_hidden": false
    },
    "pycharm": {
     "name": "#%%\n"
    },
    "tags": []
   },
   "outputs": [
    {
     "data": {
      "text/plain": [
       "ID                       int64\n",
       "Month                   object\n",
       "WeekOfMonth              int64\n",
       "DayOfWeek               object\n",
       "Make                    object\n",
       "AccidentArea            object\n",
       "DayOfWeekClaimed        object\n",
       "MonthClaimed            object\n",
       "WeekOfMonthClaimed       int64\n",
       "Sex                     object\n",
       "MaritalStatus           object\n",
       "Age                      int64\n",
       "Fault                   object\n",
       "PolicyType              object\n",
       "VehicleCategory         object\n",
       "VehiclePrice            object\n",
       "FraudFound_P             int64\n",
       "PolicyNumber             int64\n",
       "RepNumber                int64\n",
       "Deductible               int64\n",
       "DriverRating             int64\n",
       "Days_Policy_Accident    object\n",
       "Days_Policy_Claim       object\n",
       "PastNumberOfClaims      object\n",
       "AgeOfVehicle            object\n",
       "AgeOfPolicyHolder       object\n",
       "PoliceReportFiled       object\n",
       "WitnessPresent          object\n",
       "AgentType               object\n",
       "NumberOfSuppliments     object\n",
       "AddressChange_Claim     object\n",
       "NumberOfCars            object\n",
       "Year                     int64\n",
       "BasePolicy              object\n",
       "dtype: object"
      ]
     },
     "execution_count": 5,
     "metadata": {},
     "output_type": "execute_result"
    }
   ],
   "source": [
    "df.dtypes"
   ]
  },
  {
   "cell_type": "markdown",
   "id": "fb60c0f2",
   "metadata": {
    "pycharm": {
     "name": "#%% md\n"
    }
   },
   "source": [
    "#### Lister unike verdier for hver forklaringsvariabel\n",
    "Dette gir oss en god oversikt over hvilke forklaringsvariabler som er numeriske og hvilke som er kategoriske. Det kan også hjelpe oss med å finne feil eller se andre sammenhenger hvor vi kan forbedre datagrunnlaget vårt."
   ]
  },
  {
   "cell_type": "code",
   "execution_count": 6,
   "id": "989884b0",
   "metadata": {
    "collapsed": false,
    "jupyter": {
     "outputs_hidden": false
    },
    "pycharm": {
     "name": "#%%\n"
    },
    "tags": []
   },
   "outputs": [
    {
     "name": "stdout",
     "output_type": "stream",
     "text": [
      "ID: [ 1068  2945  6883 ... 11245  8374  2226]\n",
      "Month: ['Nov' 'Jun' 'Jan' 'Oct' 'Sep' 'Feb' 'Dec' 'Jul' 'Apr' 'May' 'Aug' 'Mar']\n",
      "WeekOfMonth: [5 3 4 2 1]\n",
      "DayOfWeek: ['Monday' 'Thursday' 'Friday' 'Saturday' 'Wednesday' 'Tuesday' 'Sunday']\n",
      "Make: ['Accura' 'Chevrolet' 'Mazda' 'Toyota' 'Honda' 'Pontiac' 'VW' 'Dodge'\n",
      " 'Mercury' 'Saab' 'Ford' 'Saturn' 'Nisson' 'BMW' 'Porche' 'Ferrari'\n",
      " 'Jaguar' 'Mecedes' 'Lexus']\n",
      "AccidentArea: ['Urban' 'Rural']\n",
      "DayOfWeekClaimed: ['Thursday' 'Friday' 'Monday' 'Tuesday' 'Wednesday' 'Saturday' 'Sunday'\n",
      " '0']\n",
      "MonthClaimed: ['Dec' 'Jul' 'Feb' 'Nov' 'Oct' 'Sep' 'Jan' 'Apr' 'Mar' 'May' 'Aug' 'Jun'\n",
      " '0']\n",
      "WeekOfMonthClaimed: [1 5 3 2 4]\n",
      "Sex: ['Male' 'Female']\n",
      "MaritalStatus: ['Married' 'Single' 'Divorced' 'Widow']\n",
      "Age: [36 33 46 27 45 59 28 48 55 72 29 49 58 61 53 32 40 39 51  0 52 60 43 35\n",
      " 54 34 64 37 31 26 77 47 30 50 63 42 57 56 22 38 23 65 44 73 70 21 25 62\n",
      " 76 24 80 18 71 79 41 68 75 67 66 19 17 78 69 20 74 16]\n",
      "Fault: ['Policy Holder' 'Third Party']\n",
      "PolicyType: ['Sedan - Collision' 'Sedan - Liability' 'Sedan - All Perils'\n",
      " 'Sport - Collision' 'Utility - All Perils' 'Utility - Collision'\n",
      " 'Sport - Liability' 'Utility - Liability' 'Sport - All Perils']\n",
      "VehicleCategory: ['Sedan' 'Sport' 'Utility']\n",
      "VehiclePrice: ['more than 69000' '20000 to 29000' '30000 to 39000' 'less than 20000'\n",
      " '40000 to 59000' '60000 to 69000']\n",
      "FraudFound_P: [0 1]\n",
      "PolicyNumber: [ 1069  2946  6884 ... 11246  8375  2227]\n",
      "RepNumber: [11  8 12 15  3  1  2  6  9 14 10  7 13  4  5 16]\n",
      "Deductible: [400 500 700 300]\n",
      "DriverRating: [2 3 1 4]\n",
      "Days_Policy_Accident: ['more than 30' '8 to 15' '1 to 7' '15 to 30' 'none']\n",
      "Days_Policy_Claim: ['more than 30' '8 to 15' '15 to 30' 'none']\n",
      "PastNumberOfClaims: ['2 to 4' 'none' 'more than 4' '1']\n",
      "AgeOfVehicle: ['7 years' '6 years' '5 years' 'more than 7' 'new' '4 years' '3 years'\n",
      " '2 years']\n",
      "AgeOfPolicyHolder: ['36 to 40' '31 to 35' '41 to 50' '51 to 65' 'over 65' '16 to 17'\n",
      " '26 to 30' '21 to 25' '18 to 20']\n",
      "PoliceReportFiled: ['No' 'Yes']\n",
      "WitnessPresent: ['No' 'Yes']\n",
      "AgentType: ['External' 'Internal']\n",
      "NumberOfSuppliments: ['more than 5' 'none' '1 to 2' '3 to 5']\n",
      "AddressChange_Claim: ['no change' '1 year' '2 to 3 years' '4 to 8 years' 'under 6 months']\n",
      "NumberOfCars: ['1 vehicle' '3 to 4' '2 vehicles' '5 to 8' 'more than 8']\n",
      "Year: [1994 1995 1996]\n",
      "BasePolicy: ['Collision' 'Liability' 'All Perils']\n"
     ]
    }
   ],
   "source": [
    "from pprint import pprint\n",
    "for col in df:\n",
    "    print(f\"{col}: {df[col].unique()}\")       "
   ]
  },
  {
   "cell_type": "markdown",
   "id": "0d7c5901",
   "metadata": {
    "pycharm": {
     "name": "#%% md\n"
    }
   },
   "source": [
    "#### Vi deler forklaringsvariablene inn i kategoriske og numeriske variabler\n",
    "Ved hjelp av oversikten over kan vi avgjøre hvilke forklaringsvariabler som skal være kategoriske og hvilke som skal være numeriske. Om vi bestemmer at en forklaringsvariabel skal være kategorisk, kan det allikevel være nyttig å ordne eller sortere verdiene. Det kan hjelpe tremodellen vår til å gjøre bedre og mer effektive valg. Det kan også være nyttig å lage en ny variabel basert på en vi allerede har. For eksempel fra måned til sesong."
   ]
  },
  {
   "cell_type": "markdown",
   "id": "48a857b7",
   "metadata": {
    "pycharm": {
     "name": "#%% md\n"
    }
   },
   "source": [
    "#### Tre eksempler på mapping av data\n",
    "I de tre neste blokkene, viser vi tre eksempler på hvordan man kan mappe data. Dere må selv mappe alle andre kontinuerlige variabler fra typen string til type int eller float for at de skal kunne gjøre nytten sin i en logistisk regressjonsmodell. I tillegg anbefaler vi å ordne alle kategoriske variabler som har en meningsfull rekkefølge.    \n",
    "\n"
   ]
  },
  {
   "cell_type": "markdown",
   "id": "f4df6394",
   "metadata": {
    "pycharm": {
     "name": "#%% md\n"
    }
   },
   "source": [
    "##### Vi legger til en ny forkalringsvariabel \"Season\" ved å mappe Month til Season"
   ]
  },
  {
   "cell_type": "code",
   "execution_count": 7,
   "id": "dec9e46a",
   "metadata": {
    "collapsed": false,
    "jupyter": {
     "outputs_hidden": false
    },
    "pycharm": {
     "name": "#%%\n"
    },
    "tags": []
   },
   "outputs": [
    {
     "name": "stdout",
     "output_type": "stream",
     "text": [
      "['Winter' 'Summer' 'Fall' 'Spring']\n"
     ]
    }
   ],
   "source": [
    "season_mapping = {\n",
    "    \"Jan\":\"Winter\",\n",
    "    \"Feb\":\"Winter\",\n",
    "    \"Mar\":\"Spring\",\n",
    "    \"Apr\":\"Spring\",\n",
    "    \"May\":\"Spring\",\n",
    "    \"Jun\":\"Summer\",\n",
    "    \"Jul\":\"Summer\",\n",
    "    \"Aug\":\"Summer\",\n",
    "    \"Sep\":\"Fall\",\n",
    "    \"Oct\":\"Fall\",\n",
    "    \"Nov\":\"Winter\",\n",
    "    \"Dec\":\"Winter\"\n",
    "}\n",
    "df[\"Season\"] = df[\"Month\"].map(season_mapping)\n",
    "print(df[\"Season\"].unique())"
   ]
  },
  {
   "cell_type": "markdown",
   "id": "7a20bb39",
   "metadata": {
    "pycharm": {
     "name": "#%% md\n"
    }
   },
   "source": [
    "##### Mapping av den kategoriske variabelen Month fra string til en ordnet tallrekke av typen int"
   ]
  },
  {
   "cell_type": "code",
   "execution_count": 8,
   "id": "48aa2017",
   "metadata": {
    "collapsed": false,
    "jupyter": {
     "outputs_hidden": false
    },
    "pycharm": {
     "name": "#%%\n"
    },
    "tags": []
   },
   "outputs": [
    {
     "name": "stdout",
     "output_type": "stream",
     "text": [
      "[11  6  1 10  9  2 12  7  4  5  8  3]\n"
     ]
    }
   ],
   "source": [
    "month_mapping = {\n",
    "    \"Jan\":1,\n",
    "    \"Feb\":2,\n",
    "    \"Mar\":3,\n",
    "    \"Apr\":4,\n",
    "    \"May\":5,\n",
    "    \"Jun\":6,\n",
    "    \"Jul\":7,\n",
    "    \"Aug\":8,\n",
    "    \"Sep\":9,\n",
    "    \"Oct\":10,\n",
    "    \"Nov\":11,\n",
    "    \"Dec\":12\n",
    "}\n",
    "df=df.replace({\"Month\": month_mapping})\n",
    "print(df[\"Month\"].unique())"
   ]
  },
  {
   "cell_type": "markdown",
   "id": "b3a49256",
   "metadata": {
    "pycharm": {
     "name": "#%% md\n"
    }
   },
   "source": [
    "##### Vi mapper den numeriske variabelen AddressChange_Claim til en ordnet tallrekke\n"
   ]
  },
  {
   "cell_type": "code",
   "execution_count": 9,
   "id": "960c91f4",
   "metadata": {
    "collapsed": false,
    "jupyter": {
     "outputs_hidden": false
    },
    "pycharm": {
     "name": "#%%\n"
    },
    "tags": []
   },
   "outputs": [
    {
     "name": "stdout",
     "output_type": "stream",
     "text": [
      "[7 6 5 8 1 4 3 2]\n"
     ]
    }
   ],
   "source": [
    "ageofvehicle_mapping = {\n",
    "    \"new\": 1,\n",
    "    \"2 years\": 2,\n",
    "    \"3 years\": 3,\n",
    "    \"4 years\": 4,\n",
    "    \"5 years\": 5,\n",
    "    \"6 years\": 6,\n",
    "    \"7 years\": 7,\n",
    "    \"more than 7\": 8\n",
    "}\n",
    "df=df.replace({\"AgeOfVehicle\": ageofvehicle_mapping})\n",
    "print(df[\"AgeOfVehicle\"].unique())"
   ]
  },
  {
   "cell_type": "markdown",
   "source": [
    "#### One Hot / Dummies\n",
    "\n",
    "Hvis du vil encode en kategorisk variabel som OneHot/Dummy finnes det en kjekk funksjon for det i pandas!\n",
    "\n",
    "`df = pd.get_dummies(df, columns=['kategorisk_kolonne1', 'kategorisk_kolonne2'])`\n",
    "\n",
    "Denne koden vil erstatte 'kategorisk_kolonne1' og 'kategorisk_kolonne2' i 'df' med like mange binære kolonner per variabel som det er unike verdier.\n",
    "\n",
    "Hvis du lurer på hva en \"One Hot\" eller \"Dummy\"-variabel er eller om det er riktig for dere, er det vare å google i vei!"
   ],
   "metadata": {
    "collapsed": false,
    "pycharm": {
     "name": "#%% md\n"
    }
   }
  },
  {
   "cell_type": "markdown",
   "source": [
    "#### Konvertering av numeriske variabler som er object/strenger\n",
    "\n",
    "Hvis du mener at en kolonne inneholder verdier som lett kan konverteres til tall direkte fordi de er strenger som \"1\", \"2.5\", osv, kan du bruke en direkte konverteringsmetode.\n",
    "\n",
    "```\n",
    "object_columns = df[\"object_col1\", \"object_col2\"]\n",
    "converted_columns = object_columns.apply(pd.to_numeric, errors = 'coerce')\n",
    "df[\"object_col1\", \"object_col2\"] = converted_columns\n",
    "```\n",
    "\n",
    "Her applikeres pandas sin \"to_numeric\"-metode til hver enkelt kolonne i dataframen \"object_columns\", og \"coerce\" betyr at errors som oppstår når verdiene ikke kan konverteres til et tall blir tvunget til verdien \"Not A Number\". "
   ],
   "metadata": {
    "collapsed": false,
    "pycharm": {
     "name": "#%% md\n"
    }
   }
  },
  {
   "cell_type": "markdown",
   "source": [
    "#### ⚠️ Lag nye kodeblokker nedenfor hvor du gjør de resterende mappingene"
   ],
   "metadata": {
    "collapsed": false,
    "pycharm": {
     "name": "#%% md\n"
    }
   }
  },
  {
   "cell_type": "code",
   "execution_count": null,
   "outputs": [],
   "source": [],
   "metadata": {
    "collapsed": false,
    "pycharm": {
     "name": "#%%\n"
    }
   }
  },
  {
   "cell_type": "markdown",
   "source": [
    "#### Vi sjekker om det er duplikater"
   ],
   "metadata": {
    "collapsed": false,
    "pycharm": {
     "name": "#%% md\n"
    }
   }
  },
  {
   "cell_type": "code",
   "execution_count": null,
   "outputs": [],
   "source": [
    "df.duplicated().any()"
   ],
   "metadata": {
    "collapsed": false,
    "pycharm": {
     "name": "#%%\n"
    }
   }
  },
  {
   "cell_type": "markdown",
   "source": [
    "#### Vi sjekker om det er \"NA\"-verdier i datasettet\n",
    "\n",
    "NA er en paraplybetegnelse for spesielle typer som er ment å symbolisere en manglende verdi, eller en feilverdi. Noen eksempler på dette er \"None\", \"Null\" og \"Not a Number\"(i en numerisk variabel)."
   ],
   "metadata": {
    "collapsed": false,
    "pycharm": {
     "name": "#%% md\n"
    }
   }
  },
  {
   "cell_type": "code",
   "execution_count": null,
   "outputs": [],
   "source": [
    "df.isna().any()"
   ],
   "metadata": {
    "collapsed": false,
    "pycharm": {
     "name": "#%%\n"
    }
   }
  },
  {
   "cell_type": "markdown",
   "source": [
    "#### Er det noen 0-verdier der det ikke bør være det?"
   ],
   "metadata": {
    "collapsed": false,
    "pycharm": {
     "name": "#%% md\n"
    }
   }
  },
  {
   "cell_type": "code",
   "execution_count": null,
   "outputs": [],
   "source": [
    "for col in df:\n",
    "    if df[col].dtype == int:\n",
    "        count = (df[col] == 0).sum()\n",
    "    else:\n",
    "        count = (df[col] == '0').sum()\n",
    "    if count > 0:\n",
    "        print(f'{col} {count}')"
   ],
   "metadata": {
    "collapsed": false,
    "pycharm": {
     "name": "#%%\n"
    }
   }
  },
  {
   "cell_type": "markdown",
   "source": [
    "Ja, vi fant ut at Age-variabelen har hele 232 0-verdier, her er det noe som ikke stemmer.\n",
    "Vi må finne ut hva vi skal mappe denne til. Vi kan enten finne en annen verdi/mean-verdi basert på informasjon fra de andre variablene. Eller vi kan beholde den som 0. I en linær modell er nok en mean verdi viktigere å sette inn enn i en tremodell."
   ],
   "metadata": {
    "collapsed": false,
    "pycharm": {
     "name": "#%% md\n"
    }
   }
  },
  {
   "cell_type": "code",
   "execution_count": null,
   "outputs": [],
   "source": [
    "df[\"Age\"].loc[df[\"Age\"] == 0] = 16"
   ],
   "metadata": {
    "collapsed": false,
    "pycharm": {
     "name": "#%%\n"
    }
   }
  },
  {
   "cell_type": "code",
   "execution_count": null,
   "outputs": [],
   "source": [
    "print(df[\"Age\"].unique())"
   ],
   "metadata": {
    "collapsed": false,
    "pycharm": {
     "name": "#%%\n"
    }
   }
  },
  {
   "cell_type": "markdown",
   "source": [
    "Her følger eksempelkode for å plotte distribusjonen av verdiene i en kontinuerlig inputvariabel:"
   ],
   "metadata": {
    "collapsed": false,
    "pycharm": {
     "name": "#%% md\n"
    }
   }
  },
  {
   "cell_type": "code",
   "execution_count": null,
   "outputs": [],
   "source": [
    "import seaborn as sns\n",
    "import scipy.stats as stats\n",
    "\n",
    "skew = df[\"Age\"].skew()\n",
    "ax = sns.distplot(df[\"Age\"], fit = stats.norm)"
   ],
   "metadata": {
    "collapsed": false,
    "pycharm": {
     "name": "#%%\n"
    }
   }
  },
  {
   "cell_type": "markdown",
   "source": [
    "#### ⚠️ Skriv inn kategoriske forklaringsvariabler som skal enkodes til heltall mellom 0 og n (antall unike verdier i kolonne)\n",
    "\n",
    "Det er lagt inn et par eksempler, men ta deres egen vurdering.\n",
    "\n",
    "Denne metoden vil omgjøre alle variabler til et tall mellom 0 og n, hvor n er altall unike verdier i kolonnen! For uordnede kategoriske inputvariabler til logistisk regresjon er ikke dette en serlig god løsning, men den kan være god når man gjør kategorienkoding for trebaserte algoritmer! "
   ],
   "metadata": {
    "collapsed": false,
    "pycharm": {
     "name": "#%% md\n"
    }
   }
  },
  {
   "cell_type": "code",
   "execution_count": null,
   "outputs": [],
   "source": [
    "categorical_features=['Month', 'Sex']"
   ],
   "metadata": {
    "collapsed": false,
    "pycharm": {
     "name": "#%%\n"
    }
   }
  },
  {
   "cell_type": "markdown",
   "source": [
    "#### Encoding vil bare fungere dersom du har mappet alle de numeriske forklaringsvariablene riktig. "
   ],
   "metadata": {
    "collapsed": false,
    "pycharm": {
     "name": "#%% md\n"
    }
   }
  },
  {
   "cell_type": "code",
   "execution_count": null,
   "outputs": [],
   "source": [
    "from sklearn.preprocessing import LabelEncoder\n",
    "\n",
    "df[categorical_features] = df[categorical_features].apply(LabelEncoder().fit_transform)"
   ],
   "metadata": {
    "collapsed": false,
    "pycharm": {
     "name": "#%%\n"
    }
   }
  },
  {
   "cell_type": "markdown",
   "source": [
    "#### ⚠️ Det kan være du vil droppe noen av kolonnene fra dataen, før du sender dem til maskinlæringsmodellene dine.\n",
    "\n",
    "For eksempel om du ikke \n",
    "\n",
    "`df = df.drop(axis=1, labels=[’kolonnenavn’])`\n",
    "\n",
    "dropper alle kolonnenavn i \"labels\"-lista fra DataFramen\n"
   ],
   "metadata": {
    "collapsed": false,
    "pycharm": {
     "name": "#%% md\n"
    }
   }
  }
 ],
 "metadata": {
  "kernelspec": {
   "display_name": "Python 3 (ipykernel)",
   "language": "python",
   "name": "python3"
  },
  "language_info": {
   "codemirror_mode": {
    "name": "ipython",
    "version": 3
   },
   "file_extension": ".py",
   "mimetype": "text/x-python",
   "name": "python",
   "nbconvert_exporter": "python",
   "pygments_lexer": "ipython3",
   "version": "3.10.6"
  }
 },
 "nbformat": 4,
 "nbformat_minor": 5
}