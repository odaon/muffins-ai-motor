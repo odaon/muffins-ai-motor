{
 "cells": [
  {
   "cell_type": "markdown",
   "id": "79d7817e-2ad1-4b95-9fdd-03596619e2ad",
   "metadata": {
    "tags": []
   },
   "source": [
    "# Oppgave 3\n",
    "\n",
    "Dette er etikkoppgaven, og den er todelt. Pekepin for hva dere bør tenke på finnes under overskriften \"Etikk, likestilling, og diskriminering\" i filen `README.md`"
   ]
  },
  {
   "cell_type": "markdown",
   "id": "e394e292-e97d-4409-b5cc-dd1fc3200657",
   "metadata": {
    "tags": []
   },
   "source": [
    "## 3.a) \n",
    "\n",
    "Hvis vi ignorerer loven og etikken er det mange alternative konsekvenser som vi kan velge at skal utløses dersom en sak blir markert som muffens av en maskinlæringsmodell. Hva er de forskjellige etiske problemene og konsekvensene ved hver av de følgende scenarioene hvor muffensprediksjonen utløser en praktisk konsekvens?\n",
    "\n",
    "**3.a.i)** Når en sak klassifiseres som muffens må kunden fylle inn flere skjemaer med informasjon før saken går videre.\n",
    "\n",
    "**3.a.ii)** Når en sak klassifiseres som muffens sendes den til en manuell saksbehandler, som ikke vet at det er markert som muffens. \n",
    "\n",
    "**3.a.iii)** Når en sak klassifiseres som muffens blir den markert som *mulig* svindel internt, og blir etterforsket i det stille uten at kunden må fylle inn ekstra skjemaer eller gå gjennom manuell saksbehandling. \n",
    "\n",
    "**3.a.iv)** Når en sak klassifiseres som muffens blir utbetaling automatisk stoppet, og saken blir sendt til utredning som svindel. \n",
    "\n",
    "**3.a.v)** Når en sak klassifiseres som muffens blir saken automatisk markert som definitivt svindel, og blir behandlet deretter."
   ]
  },
  {
   "cell_type": "raw",
   "id": "8e3b3864-eb63-4d9a-8a4f-6e374d089825",
   "metadata": {},
   "source": []
  },
  {
   "cell_type": "markdown",
   "id": "65b0728b-df0d-4c25-8aa1-d8268d1f8e43",
   "metadata": {},
   "source": [
    "## 3.b) \n",
    "\n",
    "Hvilke kolonner - eller kombinasjoner av kolonner - kan være etisk uheldige å bruke i en maskinlæringsmodell for muffensdeteksjon? Hvorfor?"
   ]
  },
  {
   "cell_type": "raw",
   "id": "20275f85-31ae-4709-956a-bba08fb409c6",
   "metadata": {},
   "source": []
  }
 ],
 "metadata": {
  "kernelspec": {
   "display_name": "Python 3 (ipykernel)",
   "language": "python",
   "name": "python3"
  },
  "language_info": {
   "codemirror_mode": {
    "name": "ipython",
    "version": 3
   },
   "file_extension": ".py",
   "mimetype": "text/x-python",
   "name": "python",
   "nbconvert_exporter": "python",
   "pygments_lexer": "ipython3",
   "version": "3.10.6"
  }
 },
 "nbformat": 4,
 "nbformat_minor": 5
}
