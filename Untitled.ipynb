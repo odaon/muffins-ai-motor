{
 "cells": [
  {
   "cell_type": "markdown",
   "id": "24733a63-64ae-4cae-9b0c-703cfdc8f5f9",
   "metadata": {},
   "source": [
    "# Maskinlæring\n",
    "\n",
    "I denne notebooken skal vi \n",
    "\n",
    "Bruke de nyvaskede og utforskede dataene våre til å trene en eller flere maskinlæringsmodeller.\n",
    "\n",
    "Se på hvordan vi kan måle kvaliteten til modellene våre, og hvordan vi kan øke kvalitet. \n",
    "\n",
    "Se på hvordan vi kan kontrollere hvordan modellene våre oppfører seg basert på våre egne prioriteringer."
   ]
  }
 ],
 "metadata": {
  "kernelspec": {
   "display_name": "Python 3 (ipykernel)",
   "language": "python",
   "name": "python3"
  },
  "language_info": {
   "codemirror_mode": {
    "name": "ipython",
    "version": 3
   },
   "file_extension": ".py",
   "mimetype": "text/x-python",
   "name": "python",
   "nbconvert_exporter": "python",
   "pygments_lexer": "ipython3",
   "version": "3.10.6"
  }
 },
 "nbformat": 4,
 "nbformat_minor": 5
}
